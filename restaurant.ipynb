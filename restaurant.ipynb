{
 "cells": [
  {
   "cell_type": "code",
   "execution_count": null,
   "id": "9c019ab1",
   "metadata": {},
   "outputs": [],
   "source": [
    "%load_ext autoreload\n",
    "%autoreload 2"
   ]
  },
  {
   "cell_type": "markdown",
   "id": "d763608c",
   "metadata": {},
   "source": [
    "# Segmentation"
   ]
  },
  {
   "cell_type": "markdown",
   "id": "70a2c8f8",
   "metadata": {},
   "source": [
    "## Règles"
   ]
  },
  {
   "cell_type": "markdown",
   "id": "eaa41c9b",
   "metadata": {},
   "source": [
    "_Avant de s’interroger sur les responsabilités d’un algorithme, il faut être en mesure d’identifier quel algorithme est la source de telle décision. Ainsi, en parallèle des conférences, la société civile est invitée dans le cadre d’un Hackathon, à contribuer à la résolution de ce problème ouvert via des techniques d’intelligence artificielle._\n",
    "_Le Hackathon propose un cas simplifié, mais réaliste, de plateforme de livraison de plats cuisinés. La plateforme affiche à l’utilisateur un tarif unique pour chaque livraison, depuis un restaurant jusqu’au lieu de collecte. Plusieurs options sont possibles pour l'établissement de ce tarif : le restaurant décide quelle option de livraison et/ou tarification de livraison s’applique à lui parmi différents algorithmes proposés par la plateforme ou la tarification est complètement à la main du restaurant._\n",
    "\n",
    "_Pour comprendre les responsabilités à l’œuvre, les participants inscrits auront pour mission de détecter à partir du jeu de données fourni quel algorithme fixe quelle tarification. Afin d’aider les participants, le jeu de données contient des informations récupérées sur la plateforme fictive (e.g. le lieu de livraison) comme des données contextuelles (e.g. des informations sur la météo locale). Toute donnée supplémentaire apportée par les candidats est bienvenue._"
   ]
  },
  {
   "cell_type": "markdown",
   "id": "c4de68ed",
   "metadata": {},
   "source": [
    "## Méthodologie"
   ]
  },
  {
   "cell_type": "markdown",
   "id": "cc6a289a",
   "metadata": {},
   "source": [
    "## Objectif visé\n",
    "Déterminer, pour chaque commande, le mode de tarification utilisé (variable caché) étant donné le tarif affiché à l'utilisateur (qui est notre observable)."
   ]
  },
  {
   "cell_type": "markdown",
   "id": "eb5d25ec",
   "metadata": {},
   "source": []
  },
  {
   "cell_type": "markdown",
   "id": "1d3023ec",
   "metadata": {},
   "source": [
    "### Données utilisées (et sources)\n",
    "Météo (jdd fourni)\n",
    "Géolocalisation des points de livraison (jdd fourni)\n",
    "Géolocalisation des commerces (jdd fourni)\n",
    "Jour et heure (jdd fourni)"
   ]
  },
  {
   "cell_type": "markdown",
   "id": "d9f4fcb2",
   "metadata": {},
   "source": [
    "### Spécifications techniques du code\n",
    "python3.10\n",
    "sklearn==1.1.0"
   ]
  },
  {
   "cell_type": "markdown",
   "id": "fd6fe981",
   "metadata": {},
   "source": [
    "## Feature engineering"
   ]
  },
  {
   "cell_type": "code",
   "execution_count": null,
   "id": "b4a6d319",
   "metadata": {},
   "outputs": [],
   "source": [
    "import pandas as pd\n",
    "tarifs = pd.read_csv(\"tarifs.csv\")"
   ]
  },
  {
   "cell_type": "code",
   "execution_count": null,
   "id": "f7e458b4",
   "metadata": {},
   "outputs": [],
   "source": [
    "tarifs.head()"
   ]
  },
  {
   "cell_type": "markdown",
   "id": "8ddbca4d",
   "metadata": {},
   "source": [
    "#### Adding restaurant id.\n",
    "#### Also addd addresses (?) (seem to be useless. Maybe the addressed are anonymized ?)"
   ]
  },
  {
   "cell_type": "code",
   "execution_count": null,
   "id": "902be672",
   "metadata": {},
   "outputs": [],
   "source": [
    "tarifs[\"id\"] = tarifs.apply(lambda row: str(row[\"start_lat\"]) + str(row[\"start_lon\"]), axis=1)"
   ]
  },
  {
   "cell_type": "code",
   "execution_count": null,
   "id": "f98ba6e7",
   "metadata": {},
   "outputs": [],
   "source": [
    "\"\"\"\n",
    "tarifs[\"lat\"] = tarifs[\"start_lat\"]\n",
    "tarifs[\"lon\"] = tarifs[\"start_lon\"]\n",
    "tarifs.to_csv(\"tarifs_geo.csv\")\n",
    "!curl -X POST -F data=@tarifs_geo.csv https://api-adresse.data.gouv.fr/reverse/csv/ > tarifs_adresses.csv\n",
    "\"\"\"\n"
   ]
  },
  {
   "cell_type": "markdown",
   "id": "61c99847",
   "metadata": {},
   "source": [
    "### Distance"
   ]
  },
  {
   "cell_type": "code",
   "execution_count": null,
   "id": "1709ae0b",
   "metadata": {},
   "outputs": [],
   "source": [
    "import numpy as np"
   ]
  },
  {
   "cell_type": "code",
   "execution_count": null,
   "id": "92fc01d8",
   "metadata": {},
   "outputs": [],
   "source": [
    "# Création de la colonne \"distance au point de livraison\"\n",
    "tarifs[\"d\"] = np.sqrt((tarifs[\"end_lon\"]-tarifs[\"start_lon\"])**2 + (tarifs[\"end_lat\"]-tarifs[\"start_lat\"])**2)"
   ]
  },
  {
   "cell_type": "markdown",
   "id": "261b0dd8",
   "metadata": {},
   "source": [
    "## Day"
   ]
  },
  {
   "cell_type": "code",
   "execution_count": null,
   "id": "63a8e8dd",
   "metadata": {},
   "outputs": [],
   "source": [
    "d = {\"Monday\": 1, \"Tuesday\": 2, \"Wednesday\": 3, \"Thursday\": 4, \"Friday\": 5, \"Saturday\": 6, \"Sunday\": 7}\n",
    "tarifs[\"day_code\"] = tarifs.apply(lambda row: d[row[\"day_of_week\"]], axis=1)\n",
    "df = tarifs[[\"id\", \"rain\", \"heat\", \"day_code\", \"hour\", \"fee\", \"d\"]]\n",
    "df.head(10)"
   ]
  },
  {
   "cell_type": "code",
   "execution_count": null,
   "id": "909196a4",
   "metadata": {},
   "outputs": [],
   "source": [
    "# prise en compte de la météo"
   ]
  },
  {
   "cell_type": "markdown",
   "id": "1d8c20b2",
   "metadata": {},
   "source": [
    "## Méthodologie de validation"
   ]
  },
  {
   "cell_type": "code",
   "execution_count": null,
   "id": "4e63b9a5",
   "metadata": {},
   "outputs": [],
   "source": [
    "from sklearn.model_selection import train_test_split\n",
    "## à faire plus tard avant de soumettre"
   ]
  },
  {
   "cell_type": "markdown",
   "id": "8f6c8fab",
   "metadata": {},
   "source": [
    "## Analyse de l'algorithme"
   ]
  },
  {
   "cell_type": "code",
   "execution_count": null,
   "id": "0e240b27",
   "metadata": {},
   "outputs": [],
   "source": [
    "# Nos idées, à mettre plus tard dans le README.md (à la fin du hackathon)"
   ]
  },
  {
   "cell_type": "markdown",
   "id": "295902df",
   "metadata": {},
   "source": [
    "## Visualisation de données"
   ]
  },
  {
   "cell_type": "code",
   "execution_count": null,
   "id": "ebd737f2",
   "metadata": {},
   "outputs": [],
   "source": [
    "#df.fee.value_counts()"
   ]
  },
  {
   "cell_type": "code",
   "execution_count": null,
   "id": "642aab69",
   "metadata": {},
   "outputs": [],
   "source": [
    "import seaborn as sns\n",
    "import plotly # https://plotly.com/python/\n",
    "\n",
    "sns.pairplot(df)#, palette=\"id\") #, hue=\"col1\", palette=\"col2\")\n",
    "# visualisation 2D à creuser : (distance OU temps OU nb course) x commmission \n",
    "# notion éventuelle de bonus pour certaines courses à certains moments ou certains endroits \n",
    "# bonus : (regarder la série temporelle de la tarification moyenne), ou la distribution géographique"
   ]
  },
  {
   "cell_type": "markdown",
   "id": "11bf4901",
   "metadata": {},
   "source": [
    "### Hypothese 0: constant prices"
   ]
  },
  {
   "cell_type": "code",
   "execution_count": null,
   "id": "7f0f6bb3",
   "metadata": {},
   "outputs": [],
   "source": [
    "df[[\"fee\", \"id\"]].groupby(\"id\").nunique().values"
   ]
  },
  {
   "cell_type": "markdown",
   "id": "17622d66",
   "metadata": {},
   "source": [
    "### Modélisation avec des ellipses pour gérer le bruit sur la distance (pour plus tard ?)"
   ]
  },
  {
   "cell_type": "code",
   "execution_count": null,
   "id": "f52801b8",
   "metadata": {},
   "outputs": [],
   "source": [
    "from sklearn.mixture import GaussianMixture\n",
    "from sklearn.mixture import BayesianGaussianMixture\n",
    "model = BayesianGaussianMixture(n_components=3, covariance_type=\"tied\")\n",
    "#model.fit(df[[\"d\", \"fee\"]])\n",
    "# https://runebook.dev/fr/docs/scikit_learn/modules/mixture#bgmm (traduction de la doc scikit-learn)\n",
    "# https://scikit-learn.org/dev/modules/mixture.html#mixture\n",
    "# make_pipeline(StandardScaler(), model)"
   ]
  },
  {
   "cell_type": "code",
   "execution_count": null,
   "id": "7ff3dc3e",
   "metadata": {},
   "outputs": [],
   "source": []
  },
  {
   "cell_type": "code",
   "execution_count": null,
   "id": "d8bbfeb5",
   "metadata": {},
   "outputs": [],
   "source": []
  }
 ],
 "metadata": {
  "kernelspec": {
   "display_name": "Python 3 (ipykernel)",
   "language": "python",
   "name": "python3"
  },
  "language_info": {
   "codemirror_mode": {
    "name": "ipython",
    "version": 3
   },
   "file_extension": ".py",
   "mimetype": "text/x-python",
   "name": "python",
   "nbconvert_exporter": "python",
   "pygments_lexer": "ipython3",
   "version": "3.10.6"
  }
 },
 "nbformat": 4,
 "nbformat_minor": 5
}
