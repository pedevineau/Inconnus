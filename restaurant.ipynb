{
 "cells": [
  {
   "cell_type": "code",
   "execution_count": 1,
   "id": "9c019ab1",
   "metadata": {},
   "outputs": [],
   "source": [
    "%load_ext autoreload\n",
    "%autoreload 2"
   ]
  },
  {
   "cell_type": "markdown",
   "id": "d763608c",
   "metadata": {},
   "source": [
    "# Segmentation"
   ]
  },
  {
   "cell_type": "markdown",
   "id": "70a2c8f8",
   "metadata": {},
   "source": [
    "## Règles"
   ]
  },
  {
   "cell_type": "markdown",
   "id": "eaa41c9b",
   "metadata": {},
   "source": [
    "_Avant de s’interroger sur les responsabilités d’un algorithme, il faut être en mesure d’identifier quel algorithme est la source de telle décision. Ainsi, en parallèle des conférences, la société civile est invitée dans le cadre d’un Hackathon, à contribuer à la résolution de ce problème ouvert via des techniques d’intelligence artificielle._\n",
    "_Le Hackathon propose un cas simplifié, mais réaliste, de plateforme de livraison de plats cuisinés. La plateforme affiche à l’utilisateur un tarif unique pour chaque livraison, depuis un restaurant jusqu’au lieu de collecte. Plusieurs options sont possibles pour l'établissement de ce tarif : le restaurant décide quelle option de livraison et/ou tarification de livraison s’applique à lui parmi différents algorithmes proposés par la plateforme ou la tarification est complètement à la main du restaurant._\n",
    "\n",
    "_Pour comprendre les responsabilités à l’œuvre, les participants inscrits auront pour mission de détecter à partir du jeu de données fourni quel algorithme fixe quelle tarification. Afin d’aider les participants, le jeu de données contient des informations récupérées sur la plateforme fictive (e.g. le lieu de livraison) comme des données contextuelles (e.g. des informations sur la météo locale). Toute donnée supplémentaire apportée par les candidats est bienvenue._"
   ]
  },
  {
   "cell_type": "markdown",
   "id": "c4de68ed",
   "metadata": {},
   "source": [
    "## Méthodologie"
   ]
  },
  {
   "cell_type": "markdown",
   "id": "cc6a289a",
   "metadata": {},
   "source": [
    "## Objectif visé\n",
    "Déterminer, pour chaque commande, le mode de tarification utilisé (variable caché) étant donné le tarif affiché à l'utilisateur (qui est notre observable)."
   ]
  },
  {
   "cell_type": "markdown",
   "id": "eb5d25ec",
   "metadata": {},
   "source": []
  },
  {
   "cell_type": "markdown",
   "id": "1d3023ec",
   "metadata": {},
   "source": [
    "### Données utilisées (et sources)\n",
    "Météo (jdd fourni)\n",
    "Géolocalisation des points de livraison (jdd fourni)\n",
    "Géolocalisation des commerces (jdd fourni)\n",
    "Jour et heure (jdd fourni)"
   ]
  },
  {
   "cell_type": "markdown",
   "id": "d9f4fcb2",
   "metadata": {},
   "source": [
    "### Spécifications techniques du code\n",
    "python3.10\n",
    "sklearn==1.1.0"
   ]
  },
  {
   "cell_type": "markdown",
   "id": "fd6fe981",
   "metadata": {},
   "source": [
    "## Feature engineering"
   ]
  },
  {
   "cell_type": "code",
   "execution_count": 2,
   "id": "b4a6d319",
   "metadata": {},
   "outputs": [],
   "source": [
    "import pandas as pd\n",
    "tarifs = pd.read_csv(\"tarifs.csv\")"
   ]
  },
  {
   "cell_type": "code",
   "execution_count": 3,
   "id": "f7e458b4",
   "metadata": {},
   "outputs": [
    {
     "data": {
      "text/html": [
       "<div>\n",
       "<style scoped>\n",
       "    .dataframe tbody tr th:only-of-type {\n",
       "        vertical-align: middle;\n",
       "    }\n",
       "\n",
       "    .dataframe tbody tr th {\n",
       "        vertical-align: top;\n",
       "    }\n",
       "\n",
       "    .dataframe thead th {\n",
       "        text-align: right;\n",
       "    }\n",
       "</style>\n",
       "<table border=\"1\" class=\"dataframe\">\n",
       "  <thead>\n",
       "    <tr style=\"text-align: right;\">\n",
       "      <th></th>\n",
       "      <th>observation_uuid</th>\n",
       "      <th>start_lat</th>\n",
       "      <th>start_lon</th>\n",
       "      <th>start_code_postal</th>\n",
       "      <th>end_lat</th>\n",
       "      <th>end_lon</th>\n",
       "      <th>end_code_postal</th>\n",
       "      <th>rain</th>\n",
       "      <th>heat</th>\n",
       "      <th>day_of_week</th>\n",
       "      <th>hour</th>\n",
       "      <th>minute</th>\n",
       "      <th>fee</th>\n",
       "    </tr>\n",
       "  </thead>\n",
       "  <tbody>\n",
       "    <tr>\n",
       "      <th>0</th>\n",
       "      <td>0d742256-0b36-f3cd-0acf-eba4441030ae</td>\n",
       "      <td>48.8406</td>\n",
       "      <td>2.3220</td>\n",
       "      <td>75014</td>\n",
       "      <td>48.8262</td>\n",
       "      <td>2.3192</td>\n",
       "      <td>75014</td>\n",
       "      <td>2</td>\n",
       "      <td>5</td>\n",
       "      <td>Saturday</td>\n",
       "      <td>13</td>\n",
       "      <td>44</td>\n",
       "      <td>1.69</td>\n",
       "    </tr>\n",
       "    <tr>\n",
       "      <th>1</th>\n",
       "      <td>743c7e9d-2fde-b035-2452-bc39dbf2eed1</td>\n",
       "      <td>48.8472</td>\n",
       "      <td>2.3527</td>\n",
       "      <td>75005</td>\n",
       "      <td>48.8337</td>\n",
       "      <td>2.3880</td>\n",
       "      <td>75012</td>\n",
       "      <td>9</td>\n",
       "      <td>3</td>\n",
       "      <td>Tuesday</td>\n",
       "      <td>14</td>\n",
       "      <td>14</td>\n",
       "      <td>1.59</td>\n",
       "    </tr>\n",
       "    <tr>\n",
       "      <th>2</th>\n",
       "      <td>43893bc5-449c-56ef-3857-ebe679ffa869</td>\n",
       "      <td>48.9015</td>\n",
       "      <td>2.3704</td>\n",
       "      <td>75019</td>\n",
       "      <td>48.8814</td>\n",
       "      <td>2.3484</td>\n",
       "      <td>75009</td>\n",
       "      <td>1</td>\n",
       "      <td>9</td>\n",
       "      <td>Sunday</td>\n",
       "      <td>14</td>\n",
       "      <td>39</td>\n",
       "      <td>2.19</td>\n",
       "    </tr>\n",
       "    <tr>\n",
       "      <th>3</th>\n",
       "      <td>284884a2-55e5-c1d9-b036-4ad9ee5be9b9</td>\n",
       "      <td>48.8504</td>\n",
       "      <td>2.2902</td>\n",
       "      <td>75015</td>\n",
       "      <td>48.8716</td>\n",
       "      <td>2.2811</td>\n",
       "      <td>75016</td>\n",
       "      <td>6</td>\n",
       "      <td>2</td>\n",
       "      <td>Thursday</td>\n",
       "      <td>12</td>\n",
       "      <td>46</td>\n",
       "      <td>1.79</td>\n",
       "    </tr>\n",
       "    <tr>\n",
       "      <th>4</th>\n",
       "      <td>a0ce5b5f-ca56-3921-f942-2f1efed97f9e</td>\n",
       "      <td>48.8583</td>\n",
       "      <td>2.3894</td>\n",
       "      <td>75011</td>\n",
       "      <td>48.8623</td>\n",
       "      <td>2.3426</td>\n",
       "      <td>75001</td>\n",
       "      <td>2</td>\n",
       "      <td>6</td>\n",
       "      <td>Friday</td>\n",
       "      <td>13</td>\n",
       "      <td>38</td>\n",
       "      <td>2.09</td>\n",
       "    </tr>\n",
       "  </tbody>\n",
       "</table>\n",
       "</div>"
      ],
      "text/plain": [
       "                       observation_uuid  start_lat  start_lon  \\\n",
       "0  0d742256-0b36-f3cd-0acf-eba4441030ae    48.8406     2.3220   \n",
       "1  743c7e9d-2fde-b035-2452-bc39dbf2eed1    48.8472     2.3527   \n",
       "2  43893bc5-449c-56ef-3857-ebe679ffa869    48.9015     2.3704   \n",
       "3  284884a2-55e5-c1d9-b036-4ad9ee5be9b9    48.8504     2.2902   \n",
       "4  a0ce5b5f-ca56-3921-f942-2f1efed97f9e    48.8583     2.3894   \n",
       "\n",
       "   start_code_postal  end_lat  end_lon  end_code_postal  rain  heat  \\\n",
       "0              75014  48.8262   2.3192            75014     2     5   \n",
       "1              75005  48.8337   2.3880            75012     9     3   \n",
       "2              75019  48.8814   2.3484            75009     1     9   \n",
       "3              75015  48.8716   2.2811            75016     6     2   \n",
       "4              75011  48.8623   2.3426            75001     2     6   \n",
       "\n",
       "  day_of_week  hour  minute   fee  \n",
       "0    Saturday    13      44  1.69  \n",
       "1     Tuesday    14      14  1.59  \n",
       "2      Sunday    14      39  2.19  \n",
       "3    Thursday    12      46  1.79  \n",
       "4      Friday    13      38  2.09  "
      ]
     },
     "execution_count": 3,
     "metadata": {},
     "output_type": "execute_result"
    }
   ],
   "source": [
    "tarifs.head()"
   ]
  },
  {
   "cell_type": "markdown",
   "id": "8ddbca4d",
   "metadata": {},
   "source": [
    "#### Adding restaurant id.\n",
    "#### Also addd addresses (?) (seem to be useless. Maybe the addressed are anonymized ?)"
   ]
  },
  {
   "cell_type": "code",
   "execution_count": 4,
   "id": "902be672",
   "metadata": {},
   "outputs": [],
   "source": [
    "tarifs[\"id\"] = tarifs.apply(lambda row: str(row[\"start_lat\"]) + str(row[\"start_lon\"]), axis=1)"
   ]
  },
  {
   "cell_type": "code",
   "execution_count": 5,
   "id": "f98ba6e7",
   "metadata": {},
   "outputs": [
    {
     "data": {
      "text/plain": [
       "'\\ntarifs[\"lat\"] = tarifs[\"start_lat\"]\\ntarifs[\"lon\"] = tarifs[\"start_lon\"]\\ntarifs.to_csv(\"tarifs_geo.csv\")\\n!curl -X POST -F data=@tarifs_geo.csv https://api-adresse.data.gouv.fr/reverse/csv/ > tarifs_adresses.csv\\n'"
      ]
     },
     "execution_count": 5,
     "metadata": {},
     "output_type": "execute_result"
    }
   ],
   "source": [
    "\"\"\"\n",
    "tarifs[\"lat\"] = tarifs[\"start_lat\"]\n",
    "tarifs[\"lon\"] = tarifs[\"start_lon\"]\n",
    "tarifs.to_csv(\"tarifs_geo.csv\")\n",
    "!curl -X POST -F data=@tarifs_geo.csv https://api-adresse.data.gouv.fr/reverse/csv/ > tarifs_adresses.csv\n",
    "\"\"\"\n"
   ]
  },
  {
   "cell_type": "markdown",
   "id": "61c99847",
   "metadata": {},
   "source": [
    "### Distance"
   ]
  },
  {
   "cell_type": "code",
   "execution_count": 6,
   "id": "1709ae0b",
   "metadata": {},
   "outputs": [],
   "source": [
    "import numpy as np"
   ]
  },
  {
   "cell_type": "code",
   "execution_count": 7,
   "id": "92fc01d8",
   "metadata": {},
   "outputs": [],
   "source": [
    "# Création de la colonne \"distance au point de livraison\"\n",
    "tarifs[\"d\"] = np.sqrt((tarifs[\"end_lon\"]-tarifs[\"start_lon\"])**2 + (tarifs[\"end_lat\"]-tarifs[\"start_lat\"])**2)"
   ]
  },
  {
   "cell_type": "markdown",
   "id": "536e87b4",
   "metadata": {},
   "source": [
    "## Arrondissement"
   ]
  },
  {
   "cell_type": "code",
   "execution_count": 8,
   "id": "f00540ed",
   "metadata": {},
   "outputs": [],
   "source": [
    "# it works because the last 2 digits of code INSEE equals the arrondissement number for Paris\n",
    "tarifs[\"arrondissement\"] = tarifs.apply(lambda row: str(row[\"end_code_postal\"])[-2:], axis=1)"
   ]
  },
  {
   "cell_type": "markdown",
   "id": "261b0dd8",
   "metadata": {},
   "source": [
    "## Jour"
   ]
  },
  {
   "cell_type": "code",
   "execution_count": 9,
   "id": "63a8e8dd",
   "metadata": {},
   "outputs": [
    {
     "data": {
      "text/html": [
       "<div>\n",
       "<style scoped>\n",
       "    .dataframe tbody tr th:only-of-type {\n",
       "        vertical-align: middle;\n",
       "    }\n",
       "\n",
       "    .dataframe tbody tr th {\n",
       "        vertical-align: top;\n",
       "    }\n",
       "\n",
       "    .dataframe thead th {\n",
       "        text-align: right;\n",
       "    }\n",
       "</style>\n",
       "<table border=\"1\" class=\"dataframe\">\n",
       "  <thead>\n",
       "    <tr style=\"text-align: right;\">\n",
       "      <th></th>\n",
       "      <th>id</th>\n",
       "      <th>rain</th>\n",
       "      <th>heat</th>\n",
       "      <th>day_code</th>\n",
       "      <th>hour</th>\n",
       "      <th>fee</th>\n",
       "      <th>d</th>\n",
       "      <th>arrondissement</th>\n",
       "      <th>observation_uuid</th>\n",
       "      <th>minute</th>\n",
       "    </tr>\n",
       "  </thead>\n",
       "  <tbody>\n",
       "    <tr>\n",
       "      <th>0</th>\n",
       "      <td>48.84062.322</td>\n",
       "      <td>2</td>\n",
       "      <td>5</td>\n",
       "      <td>6</td>\n",
       "      <td>13</td>\n",
       "      <td>1.69</td>\n",
       "      <td>0.014670</td>\n",
       "      <td>14</td>\n",
       "      <td>0d742256-0b36-f3cd-0acf-eba4441030ae</td>\n",
       "      <td>44</td>\n",
       "    </tr>\n",
       "    <tr>\n",
       "      <th>1</th>\n",
       "      <td>48.84722.3527</td>\n",
       "      <td>9</td>\n",
       "      <td>3</td>\n",
       "      <td>2</td>\n",
       "      <td>14</td>\n",
       "      <td>1.59</td>\n",
       "      <td>0.037793</td>\n",
       "      <td>12</td>\n",
       "      <td>743c7e9d-2fde-b035-2452-bc39dbf2eed1</td>\n",
       "      <td>14</td>\n",
       "    </tr>\n",
       "    <tr>\n",
       "      <th>2</th>\n",
       "      <td>48.90152.3704</td>\n",
       "      <td>1</td>\n",
       "      <td>9</td>\n",
       "      <td>7</td>\n",
       "      <td>14</td>\n",
       "      <td>2.19</td>\n",
       "      <td>0.029799</td>\n",
       "      <td>09</td>\n",
       "      <td>43893bc5-449c-56ef-3857-ebe679ffa869</td>\n",
       "      <td>39</td>\n",
       "    </tr>\n",
       "    <tr>\n",
       "      <th>3</th>\n",
       "      <td>48.85042.2902</td>\n",
       "      <td>6</td>\n",
       "      <td>2</td>\n",
       "      <td>4</td>\n",
       "      <td>12</td>\n",
       "      <td>1.79</td>\n",
       "      <td>0.023071</td>\n",
       "      <td>16</td>\n",
       "      <td>284884a2-55e5-c1d9-b036-4ad9ee5be9b9</td>\n",
       "      <td>46</td>\n",
       "    </tr>\n",
       "    <tr>\n",
       "      <th>4</th>\n",
       "      <td>48.85832.3894</td>\n",
       "      <td>2</td>\n",
       "      <td>6</td>\n",
       "      <td>5</td>\n",
       "      <td>13</td>\n",
       "      <td>2.09</td>\n",
       "      <td>0.046971</td>\n",
       "      <td>01</td>\n",
       "      <td>a0ce5b5f-ca56-3921-f942-2f1efed97f9e</td>\n",
       "      <td>38</td>\n",
       "    </tr>\n",
       "    <tr>\n",
       "      <th>5</th>\n",
       "      <td>48.84842.2891</td>\n",
       "      <td>2</td>\n",
       "      <td>6</td>\n",
       "      <td>5</td>\n",
       "      <td>12</td>\n",
       "      <td>1.89</td>\n",
       "      <td>0.020339</td>\n",
       "      <td>07</td>\n",
       "      <td>de386aeb-ea96-abe6-299c-f16b5a7583c0</td>\n",
       "      <td>5</td>\n",
       "    </tr>\n",
       "    <tr>\n",
       "      <th>6</th>\n",
       "      <td>48.84242.3476</td>\n",
       "      <td>3</td>\n",
       "      <td>2</td>\n",
       "      <td>6</td>\n",
       "      <td>12</td>\n",
       "      <td>2.09</td>\n",
       "      <td>0.029937</td>\n",
       "      <td>14</td>\n",
       "      <td>234131e2-5dce-8477-c9e1-893ec3fb3743</td>\n",
       "      <td>37</td>\n",
       "    </tr>\n",
       "    <tr>\n",
       "      <th>7</th>\n",
       "      <td>48.83632.3069</td>\n",
       "      <td>3</td>\n",
       "      <td>1</td>\n",
       "      <td>4</td>\n",
       "      <td>14</td>\n",
       "      <td>2.59</td>\n",
       "      <td>0.044840</td>\n",
       "      <td>16</td>\n",
       "      <td>0703c5f1-5b4f-5458-6523-923afe963e96</td>\n",
       "      <td>18</td>\n",
       "    </tr>\n",
       "    <tr>\n",
       "      <th>8</th>\n",
       "      <td>48.88552.3214</td>\n",
       "      <td>1</td>\n",
       "      <td>4</td>\n",
       "      <td>5</td>\n",
       "      <td>13</td>\n",
       "      <td>3.29</td>\n",
       "      <td>0.040730</td>\n",
       "      <td>15</td>\n",
       "      <td>aedab7b5-e2aa-55a7-4951-03edfd05a5f5</td>\n",
       "      <td>18</td>\n",
       "    </tr>\n",
       "    <tr>\n",
       "      <th>9</th>\n",
       "      <td>48.84572.3192</td>\n",
       "      <td>2</td>\n",
       "      <td>7</td>\n",
       "      <td>4</td>\n",
       "      <td>12</td>\n",
       "      <td>2.49</td>\n",
       "      <td>0.041856</td>\n",
       "      <td>17</td>\n",
       "      <td>15dde31a-b9e4-4e0e-3fab-916954101fe9</td>\n",
       "      <td>38</td>\n",
       "    </tr>\n",
       "  </tbody>\n",
       "</table>\n",
       "</div>"
      ],
      "text/plain": [
       "              id  rain  heat  day_code  hour   fee         d arrondissement  \\\n",
       "0   48.84062.322     2     5         6    13  1.69  0.014670             14   \n",
       "1  48.84722.3527     9     3         2    14  1.59  0.037793             12   \n",
       "2  48.90152.3704     1     9         7    14  2.19  0.029799             09   \n",
       "3  48.85042.2902     6     2         4    12  1.79  0.023071             16   \n",
       "4  48.85832.3894     2     6         5    13  2.09  0.046971             01   \n",
       "5  48.84842.2891     2     6         5    12  1.89  0.020339             07   \n",
       "6  48.84242.3476     3     2         6    12  2.09  0.029937             14   \n",
       "7  48.83632.3069     3     1         4    14  2.59  0.044840             16   \n",
       "8  48.88552.3214     1     4         5    13  3.29  0.040730             15   \n",
       "9  48.84572.3192     2     7         4    12  2.49  0.041856             17   \n",
       "\n",
       "                       observation_uuid  minute  \n",
       "0  0d742256-0b36-f3cd-0acf-eba4441030ae      44  \n",
       "1  743c7e9d-2fde-b035-2452-bc39dbf2eed1      14  \n",
       "2  43893bc5-449c-56ef-3857-ebe679ffa869      39  \n",
       "3  284884a2-55e5-c1d9-b036-4ad9ee5be9b9      46  \n",
       "4  a0ce5b5f-ca56-3921-f942-2f1efed97f9e      38  \n",
       "5  de386aeb-ea96-abe6-299c-f16b5a7583c0       5  \n",
       "6  234131e2-5dce-8477-c9e1-893ec3fb3743      37  \n",
       "7  0703c5f1-5b4f-5458-6523-923afe963e96      18  \n",
       "8  aedab7b5-e2aa-55a7-4951-03edfd05a5f5      18  \n",
       "9  15dde31a-b9e4-4e0e-3fab-916954101fe9      38  "
      ]
     },
     "execution_count": 9,
     "metadata": {},
     "output_type": "execute_result"
    }
   ],
   "source": [
    "day_dict = {\"Monday\": 1, \"Tuesday\": 2, \"Wednesday\": 3, \"Thursday\": 4, \"Friday\": 5, \"Saturday\": 6, \"Sunday\": 7}\n",
    "tarifs[\"day_code\"] = tarifs.apply(lambda row: day_dict[row[\"day_of_week\"]], axis=1)\n",
    "df = tarifs[[\"id\", \"rain\", \"heat\", \"day_code\", \"hour\", \"fee\", \"d\", \"arrondissement\", \"observation_uuid\", \"minute\"]]\n",
    "df.head(10)"
   ]
  },
  {
   "cell_type": "code",
   "execution_count": 10,
   "id": "909196a4",
   "metadata": {},
   "outputs": [],
   "source": [
    "# prise en compte de la météo"
   ]
  },
  {
   "cell_type": "markdown",
   "id": "1d8c20b2",
   "metadata": {},
   "source": [
    "## Méthodologie de validation"
   ]
  },
  {
   "cell_type": "code",
   "execution_count": 11,
   "id": "4e63b9a5",
   "metadata": {},
   "outputs": [],
   "source": [
    "from sklearn.model_selection import train_test_split\n",
    "## à faire plus tard avant de soumettre"
   ]
  },
  {
   "cell_type": "markdown",
   "id": "8f6c8fab",
   "metadata": {},
   "source": [
    "## Analyse de l'algorithme"
   ]
  },
  {
   "cell_type": "code",
   "execution_count": 12,
   "id": "0e240b27",
   "metadata": {},
   "outputs": [],
   "source": [
    "# Nos idées, à mettre plus tard dans le README.md (à la fin du hackathon)"
   ]
  },
  {
   "cell_type": "markdown",
   "id": "0de57cd8",
   "metadata": {},
   "source": [
    "### Modèle constant (mod 1) et modèle rain - deux valeurs selon qu'on est  rain>=6 ou non  (outdated - mod 2)"
   ]
  },
  {
   "cell_type": "code",
   "execution_count": null,
   "id": "b8b66599",
   "metadata": {},
   "outputs": [],
   "source": []
  },
  {
   "cell_type": "code",
   "execution_count": 13,
   "id": "b196cbdf",
   "metadata": {},
   "outputs": [
    {
     "name": "stderr",
     "output_type": "stream",
     "text": [
      "/tmp/ipykernel_34671/2720529058.py:1: SettingWithCopyWarning: \n",
      "A value is trying to be set on a copy of a slice from a DataFrame.\n",
      "Try using .loc[row_indexer,col_indexer] = value instead\n",
      "\n",
      "See the caveats in the documentation: https://pandas.pydata.org/pandas-docs/stable/user_guide/indexing.html#returning-a-view-versus-a-copy\n",
      "  df[\"rain_thresh\"] = False\n",
      "/tmp/ipykernel_34671/2720529058.py:2: SettingWithCopyWarning: \n",
      "A value is trying to be set on a copy of a slice from a DataFrame.\n",
      "Try using .loc[row_indexer,col_indexer] = value instead\n",
      "\n",
      "See the caveats in the documentation: https://pandas.pydata.org/pandas-docs/stable/user_guide/indexing.html#returning-a-view-versus-a-copy\n",
      "  df.loc[df[\"rain\"]>=6,\"rain_thresh\"]=1 # values 6, 7, 8, 9\n"
     ]
    },
    {
     "data": {
      "text/html": [
       "<div>\n",
       "<style scoped>\n",
       "    .dataframe tbody tr th:only-of-type {\n",
       "        vertical-align: middle;\n",
       "    }\n",
       "\n",
       "    .dataframe tbody tr th {\n",
       "        vertical-align: top;\n",
       "    }\n",
       "\n",
       "    .dataframe thead th {\n",
       "        text-align: right;\n",
       "    }\n",
       "</style>\n",
       "<table border=\"1\" class=\"dataframe\">\n",
       "  <thead>\n",
       "    <tr style=\"text-align: right;\">\n",
       "      <th></th>\n",
       "      <th>id</th>\n",
       "      <th>fee</th>\n",
       "      <th>model</th>\n",
       "    </tr>\n",
       "  </thead>\n",
       "  <tbody>\n",
       "    <tr>\n",
       "      <th>0</th>\n",
       "      <td>48.81712.3343</td>\n",
       "      <td>4</td>\n",
       "      <td>0</td>\n",
       "    </tr>\n",
       "    <tr>\n",
       "      <th>1</th>\n",
       "      <td>48.81892.3484</td>\n",
       "      <td>5</td>\n",
       "      <td>0</td>\n",
       "    </tr>\n",
       "    <tr>\n",
       "      <th>2</th>\n",
       "      <td>48.81982.3329</td>\n",
       "      <td>7</td>\n",
       "      <td>0</td>\n",
       "    </tr>\n",
       "    <tr>\n",
       "      <th>3</th>\n",
       "      <td>48.81982.3459</td>\n",
       "      <td>6</td>\n",
       "      <td>0</td>\n",
       "    </tr>\n",
       "    <tr>\n",
       "      <th>4</th>\n",
       "      <td>48.81982.3503</td>\n",
       "      <td>7</td>\n",
       "      <td>0</td>\n",
       "    </tr>\n",
       "    <tr>\n",
       "      <th>...</th>\n",
       "      <td>...</td>\n",
       "      <td>...</td>\n",
       "      <td>...</td>\n",
       "    </tr>\n",
       "    <tr>\n",
       "      <th>595</th>\n",
       "      <td>48.89932.3477</td>\n",
       "      <td>7</td>\n",
       "      <td>0</td>\n",
       "    </tr>\n",
       "    <tr>\n",
       "      <th>596</th>\n",
       "      <td>48.89952.3286</td>\n",
       "      <td>6</td>\n",
       "      <td>0</td>\n",
       "    </tr>\n",
       "    <tr>\n",
       "      <th>597</th>\n",
       "      <td>48.89962.3456</td>\n",
       "      <td>5</td>\n",
       "      <td>0</td>\n",
       "    </tr>\n",
       "    <tr>\n",
       "      <th>598</th>\n",
       "      <td>48.90142.386</td>\n",
       "      <td>7</td>\n",
       "      <td>0</td>\n",
       "    </tr>\n",
       "    <tr>\n",
       "      <th>599</th>\n",
       "      <td>48.90152.3704</td>\n",
       "      <td>4</td>\n",
       "      <td>0</td>\n",
       "    </tr>\n",
       "  </tbody>\n",
       "</table>\n",
       "<p>600 rows × 3 columns</p>\n",
       "</div>"
      ],
      "text/plain": [
       "                id  fee  model\n",
       "0    48.81712.3343    4      0\n",
       "1    48.81892.3484    5      0\n",
       "2    48.81982.3329    7      0\n",
       "3    48.81982.3459    6      0\n",
       "4    48.81982.3503    7      0\n",
       "..             ...  ...    ...\n",
       "595  48.89932.3477    7      0\n",
       "596  48.89952.3286    6      0\n",
       "597  48.89962.3456    5      0\n",
       "598   48.90142.386    7      0\n",
       "599  48.90152.3704    4      0\n",
       "\n",
       "[600 rows x 3 columns]"
      ]
     },
     "execution_count": 13,
     "metadata": {},
     "output_type": "execute_result"
    }
   ],
   "source": [
    "df[\"rain_thresh\"] = False\n",
    "df.loc[df[\"rain\"]>=6,\"rain_thresh\"]=1 # values 6, 7, 8, 9\n",
    "restaurant_model = df[[\"fee\", \"id\"]].groupby(\"id\").nunique().reset_index()\n",
    "restaurant_model[\"model\"] = 0\n",
    "restaurant_model.loc[restaurant_model[\"fee\"]==1, \"model\"] = 1\n",
    "restaurant_model"
   ]
  },
  {
   "cell_type": "code",
   "execution_count": 14,
   "id": "45460930",
   "metadata": {},
   "outputs": [],
   "source": [
    "df = pd.merge(df, restaurant_model[[\"id\", \"model\"]], left_on=\"id\", right_on=\"id\")"
   ]
  },
  {
   "cell_type": "markdown",
   "id": "a3f0eaa8",
   "metadata": {},
   "source": [
    "### Pearson correlation (fee, distance)"
   ]
  },
  {
   "cell_type": "code",
   "execution_count": 15,
   "id": "7be4325b",
   "metadata": {},
   "outputs": [
    {
     "name": "stderr",
     "output_type": "stream",
     "text": [
      "/home/pierre/.local/lib/python3.10/site-packages/scipy/stats/_stats_py.py:4068: PearsonRConstantInputWarning: An input array is constant; the correlation coefficient is not defined.\n",
      "  warnings.warn(PearsonRConstantInputWarning())\n"
     ]
    }
   ],
   "source": [
    "from scipy.stats import pearsonr\n",
    "\n",
    "grouped = df[[\"id\", \"d\", \"fee\"]].groupby(\"id\").agg(list)\n",
    "grouped[\"corr_d\"] = grouped.apply(\n",
    "    lambda row: pearsonr(x=row[\"fee\"], y=row[\"d\"])[0],axis=1\n",
    ")\n",
    "\n",
    "df = pd.merge(df, grouped[[\"corr_d\"]].reset_index(), left_on=\"id\", right_on=\"id\")\n"
   ]
  },
  {
   "cell_type": "code",
   "execution_count": 17,
   "id": "c65b96e1",
   "metadata": {},
   "outputs": [],
   "source": [
    "CORR_D_THRESH = 0.3\n",
    "df[\"corr_d_thresh\"] = 0\n",
    "df.loc[df[\"corr_d\"] > CORR_D_THRESH, \"corr_d_thresh\"] = 1"
   ]
  },
  {
   "cell_type": "code",
   "execution_count": null,
   "id": "868de06e",
   "metadata": {
    "scrolled": true
   },
   "outputs": [],
   "source": []
  },
  {
   "cell_type": "code",
   "execution_count": 18,
   "id": "8e1e39f8",
   "metadata": {},
   "outputs": [
    {
     "data": {
      "text/html": [
       "<div>\n",
       "<style scoped>\n",
       "    .dataframe tbody tr th:only-of-type {\n",
       "        vertical-align: middle;\n",
       "    }\n",
       "\n",
       "    .dataframe tbody tr th {\n",
       "        vertical-align: top;\n",
       "    }\n",
       "\n",
       "    .dataframe thead th {\n",
       "        text-align: right;\n",
       "    }\n",
       "</style>\n",
       "<table border=\"1\" class=\"dataframe\">\n",
       "  <thead>\n",
       "    <tr style=\"text-align: right;\">\n",
       "      <th></th>\n",
       "      <th>id</th>\n",
       "      <th>rain</th>\n",
       "      <th>heat</th>\n",
       "      <th>day_code</th>\n",
       "      <th>hour</th>\n",
       "      <th>fee</th>\n",
       "      <th>d</th>\n",
       "      <th>arrondissement</th>\n",
       "      <th>observation_uuid</th>\n",
       "      <th>minute</th>\n",
       "      <th>rain_thresh</th>\n",
       "      <th>model</th>\n",
       "      <th>corr_d</th>\n",
       "      <th>corr_d_thresh</th>\n",
       "    </tr>\n",
       "  </thead>\n",
       "  <tbody>\n",
       "    <tr>\n",
       "      <th>0</th>\n",
       "      <td>48.84062.322</td>\n",
       "      <td>2</td>\n",
       "      <td>5</td>\n",
       "      <td>6</td>\n",
       "      <td>13</td>\n",
       "      <td>1.69</td>\n",
       "      <td>0.014670</td>\n",
       "      <td>14</td>\n",
       "      <td>0d742256-0b36-f3cd-0acf-eba4441030ae</td>\n",
       "      <td>44</td>\n",
       "      <td>False</td>\n",
       "      <td>0</td>\n",
       "      <td>0.938686</td>\n",
       "      <td>1</td>\n",
       "    </tr>\n",
       "    <tr>\n",
       "      <th>1</th>\n",
       "      <td>48.84062.322</td>\n",
       "      <td>2</td>\n",
       "      <td>5</td>\n",
       "      <td>1</td>\n",
       "      <td>12</td>\n",
       "      <td>2.19</td>\n",
       "      <td>0.026921</td>\n",
       "      <td>01</td>\n",
       "      <td>38dfe76b-ae35-8290-6d80-ab08c963d148</td>\n",
       "      <td>53</td>\n",
       "      <td>False</td>\n",
       "      <td>0</td>\n",
       "      <td>0.938686</td>\n",
       "      <td>1</td>\n",
       "    </tr>\n",
       "    <tr>\n",
       "      <th>2</th>\n",
       "      <td>48.84062.322</td>\n",
       "      <td>5</td>\n",
       "      <td>4</td>\n",
       "      <td>1</td>\n",
       "      <td>14</td>\n",
       "      <td>2.39</td>\n",
       "      <td>0.034873</td>\n",
       "      <td>16</td>\n",
       "      <td>104dff66-23f1-b67e-01d3-4690a795ac54</td>\n",
       "      <td>11</td>\n",
       "      <td>False</td>\n",
       "      <td>0</td>\n",
       "      <td>0.938686</td>\n",
       "      <td>1</td>\n",
       "    </tr>\n",
       "    <tr>\n",
       "      <th>3</th>\n",
       "      <td>48.84062.322</td>\n",
       "      <td>2</td>\n",
       "      <td>2</td>\n",
       "      <td>6</td>\n",
       "      <td>13</td>\n",
       "      <td>1.59</td>\n",
       "      <td>0.016300</td>\n",
       "      <td>07</td>\n",
       "      <td>8ec9ea98-6581-f934-9bcf-b1c4f87e3560</td>\n",
       "      <td>53</td>\n",
       "      <td>False</td>\n",
       "      <td>0</td>\n",
       "      <td>0.938686</td>\n",
       "      <td>1</td>\n",
       "    </tr>\n",
       "    <tr>\n",
       "      <th>4</th>\n",
       "      <td>48.84062.322</td>\n",
       "      <td>1</td>\n",
       "      <td>9</td>\n",
       "      <td>3</td>\n",
       "      <td>14</td>\n",
       "      <td>2.49</td>\n",
       "      <td>0.042489</td>\n",
       "      <td>16</td>\n",
       "      <td>4a30f7cd-00fd-ec23-598c-a3b429b10823</td>\n",
       "      <td>37</td>\n",
       "      <td>False</td>\n",
       "      <td>0</td>\n",
       "      <td>0.938686</td>\n",
       "      <td>1</td>\n",
       "    </tr>\n",
       "    <tr>\n",
       "      <th>...</th>\n",
       "      <td>...</td>\n",
       "      <td>...</td>\n",
       "      <td>...</td>\n",
       "      <td>...</td>\n",
       "      <td>...</td>\n",
       "      <td>...</td>\n",
       "      <td>...</td>\n",
       "      <td>...</td>\n",
       "      <td>...</td>\n",
       "      <td>...</td>\n",
       "      <td>...</td>\n",
       "      <td>...</td>\n",
       "      <td>...</td>\n",
       "      <td>...</td>\n",
       "    </tr>\n",
       "    <tr>\n",
       "      <th>4795</th>\n",
       "      <td>48.83332.3991</td>\n",
       "      <td>0</td>\n",
       "      <td>1</td>\n",
       "      <td>6</td>\n",
       "      <td>14</td>\n",
       "      <td>1.79</td>\n",
       "      <td>0.030320</td>\n",
       "      <td>12</td>\n",
       "      <td>9f3176c0-468b-db70-8b6e-6609f5b9cc00</td>\n",
       "      <td>8</td>\n",
       "      <td>False</td>\n",
       "      <td>0</td>\n",
       "      <td>0.599853</td>\n",
       "      <td>1</td>\n",
       "    </tr>\n",
       "    <tr>\n",
       "      <th>4796</th>\n",
       "      <td>48.83332.3991</td>\n",
       "      <td>0</td>\n",
       "      <td>6</td>\n",
       "      <td>1</td>\n",
       "      <td>12</td>\n",
       "      <td>0.99</td>\n",
       "      <td>0.027606</td>\n",
       "      <td>13</td>\n",
       "      <td>c175de4b-7901-0563-f200-e63ad5700b5a</td>\n",
       "      <td>35</td>\n",
       "      <td>False</td>\n",
       "      <td>0</td>\n",
       "      <td>0.599853</td>\n",
       "      <td>1</td>\n",
       "    </tr>\n",
       "    <tr>\n",
       "      <th>4797</th>\n",
       "      <td>48.83332.3991</td>\n",
       "      <td>9</td>\n",
       "      <td>4</td>\n",
       "      <td>6</td>\n",
       "      <td>13</td>\n",
       "      <td>1.89</td>\n",
       "      <td>0.040209</td>\n",
       "      <td>13</td>\n",
       "      <td>126bbdd7-f8d1-cd15-e017-68c509c0fbd4</td>\n",
       "      <td>8</td>\n",
       "      <td>1</td>\n",
       "      <td>0</td>\n",
       "      <td>0.599853</td>\n",
       "      <td>1</td>\n",
       "    </tr>\n",
       "    <tr>\n",
       "      <th>4798</th>\n",
       "      <td>48.83332.3991</td>\n",
       "      <td>2</td>\n",
       "      <td>4</td>\n",
       "      <td>4</td>\n",
       "      <td>13</td>\n",
       "      <td>0.99</td>\n",
       "      <td>0.025097</td>\n",
       "      <td>13</td>\n",
       "      <td>37448afb-3023-73be-3a6d-7a7e16706465</td>\n",
       "      <td>22</td>\n",
       "      <td>False</td>\n",
       "      <td>0</td>\n",
       "      <td>0.599853</td>\n",
       "      <td>1</td>\n",
       "    </tr>\n",
       "    <tr>\n",
       "      <th>4799</th>\n",
       "      <td>48.83332.3991</td>\n",
       "      <td>7</td>\n",
       "      <td>0</td>\n",
       "      <td>1</td>\n",
       "      <td>14</td>\n",
       "      <td>1.29</td>\n",
       "      <td>0.011652</td>\n",
       "      <td>12</td>\n",
       "      <td>a51e940c-d74a-4e60-a432-e35d461e3ae9</td>\n",
       "      <td>9</td>\n",
       "      <td>1</td>\n",
       "      <td>0</td>\n",
       "      <td>0.599853</td>\n",
       "      <td>1</td>\n",
       "    </tr>\n",
       "  </tbody>\n",
       "</table>\n",
       "<p>4800 rows × 14 columns</p>\n",
       "</div>"
      ],
      "text/plain": [
       "                 id  rain  heat  day_code  hour   fee         d  \\\n",
       "0      48.84062.322     2     5         6    13  1.69  0.014670   \n",
       "1      48.84062.322     2     5         1    12  2.19  0.026921   \n",
       "2      48.84062.322     5     4         1    14  2.39  0.034873   \n",
       "3      48.84062.322     2     2         6    13  1.59  0.016300   \n",
       "4      48.84062.322     1     9         3    14  2.49  0.042489   \n",
       "...             ...   ...   ...       ...   ...   ...       ...   \n",
       "4795  48.83332.3991     0     1         6    14  1.79  0.030320   \n",
       "4796  48.83332.3991     0     6         1    12  0.99  0.027606   \n",
       "4797  48.83332.3991     9     4         6    13  1.89  0.040209   \n",
       "4798  48.83332.3991     2     4         4    13  0.99  0.025097   \n",
       "4799  48.83332.3991     7     0         1    14  1.29  0.011652   \n",
       "\n",
       "     arrondissement                      observation_uuid  minute rain_thresh  \\\n",
       "0                14  0d742256-0b36-f3cd-0acf-eba4441030ae      44       False   \n",
       "1                01  38dfe76b-ae35-8290-6d80-ab08c963d148      53       False   \n",
       "2                16  104dff66-23f1-b67e-01d3-4690a795ac54      11       False   \n",
       "3                07  8ec9ea98-6581-f934-9bcf-b1c4f87e3560      53       False   \n",
       "4                16  4a30f7cd-00fd-ec23-598c-a3b429b10823      37       False   \n",
       "...             ...                                   ...     ...         ...   \n",
       "4795             12  9f3176c0-468b-db70-8b6e-6609f5b9cc00       8       False   \n",
       "4796             13  c175de4b-7901-0563-f200-e63ad5700b5a      35       False   \n",
       "4797             13  126bbdd7-f8d1-cd15-e017-68c509c0fbd4       8           1   \n",
       "4798             13  37448afb-3023-73be-3a6d-7a7e16706465      22       False   \n",
       "4799             12  a51e940c-d74a-4e60-a432-e35d461e3ae9       9           1   \n",
       "\n",
       "      model    corr_d  corr_d_thresh  \n",
       "0         0  0.938686              1  \n",
       "1         0  0.938686              1  \n",
       "2         0  0.938686              1  \n",
       "3         0  0.938686              1  \n",
       "4         0  0.938686              1  \n",
       "...     ...       ...            ...  \n",
       "4795      0  0.599853              1  \n",
       "4796      0  0.599853              1  \n",
       "4797      0  0.599853              1  \n",
       "4798      0  0.599853              1  \n",
       "4799      0  0.599853              1  \n",
       "\n",
       "[4800 rows x 14 columns]"
      ]
     },
     "execution_count": 18,
     "metadata": {},
     "output_type": "execute_result"
    }
   ],
   "source": [
    "# if it was not constant, characterize low correlation (fee, distance) as model 2\n",
    "df.loc[(df[\"corr_d_thresh\"]==0) & (df[\"model\"] != 1), \"model\"] = 2\n",
    "df"
   ]
  },
  {
   "cell_type": "markdown",
   "id": "35276a85",
   "metadata": {},
   "source": [
    "### Pearson correlation (fee, hour)"
   ]
  },
  {
   "cell_type": "code",
   "execution_count": 19,
   "id": "dbf571e3",
   "metadata": {
    "scrolled": true
   },
   "outputs": [
    {
     "name": "stderr",
     "output_type": "stream",
     "text": [
      "/home/pierre/.local/lib/python3.10/site-packages/scipy/stats/_stats_py.py:4068: PearsonRConstantInputWarning: An input array is constant; the correlation coefficient is not defined.\n",
      "  warnings.warn(PearsonRConstantInputWarning())\n"
     ]
    }
   ],
   "source": [
    "from scipy.stats import pearsonr\n",
    "df[\"t\"] = df[\"hour\"]*60+df[\"minute\"]\n",
    "grouped = df[[\"id\", \"t\", \"fee\"]].groupby(\"id\").agg(list)\n",
    "grouped[\"corr_t\"] = grouped.apply(\n",
    "    lambda row: pearsonr(x=row[\"fee\"], y=row[\"t\"])[0],axis=1\n",
    ")\n",
    "\n",
    "df = pd.merge(df, grouped[[\"corr_t\"]].reset_index(), left_on=\"id\", right_on=\"id\")\n"
   ]
  },
  {
   "cell_type": "code",
   "execution_count": 20,
   "id": "af69374a",
   "metadata": {},
   "outputs": [
    {
     "data": {
      "text/html": [
       "<div>\n",
       "<style scoped>\n",
       "    .dataframe tbody tr th:only-of-type {\n",
       "        vertical-align: middle;\n",
       "    }\n",
       "\n",
       "    .dataframe tbody tr th {\n",
       "        vertical-align: top;\n",
       "    }\n",
       "\n",
       "    .dataframe thead th {\n",
       "        text-align: right;\n",
       "    }\n",
       "</style>\n",
       "<table border=\"1\" class=\"dataframe\">\n",
       "  <thead>\n",
       "    <tr style=\"text-align: right;\">\n",
       "      <th></th>\n",
       "      <th>id</th>\n",
       "      <th>rain</th>\n",
       "      <th>heat</th>\n",
       "      <th>day_code</th>\n",
       "      <th>hour</th>\n",
       "      <th>fee</th>\n",
       "      <th>d</th>\n",
       "      <th>arrondissement</th>\n",
       "      <th>observation_uuid</th>\n",
       "      <th>minute</th>\n",
       "      <th>rain_thresh</th>\n",
       "      <th>model</th>\n",
       "      <th>corr_d</th>\n",
       "      <th>corr_d_thresh</th>\n",
       "      <th>t</th>\n",
       "      <th>corr_t</th>\n",
       "    </tr>\n",
       "  </thead>\n",
       "  <tbody>\n",
       "    <tr>\n",
       "      <th>0</th>\n",
       "      <td>48.84062.322</td>\n",
       "      <td>2</td>\n",
       "      <td>5</td>\n",
       "      <td>6</td>\n",
       "      <td>13</td>\n",
       "      <td>1.69</td>\n",
       "      <td>0.014670</td>\n",
       "      <td>14</td>\n",
       "      <td>0d742256-0b36-f3cd-0acf-eba4441030ae</td>\n",
       "      <td>44</td>\n",
       "      <td>False</td>\n",
       "      <td>0</td>\n",
       "      <td>0.938686</td>\n",
       "      <td>1</td>\n",
       "      <td>824</td>\n",
       "      <td>0.330079</td>\n",
       "    </tr>\n",
       "    <tr>\n",
       "      <th>1</th>\n",
       "      <td>48.84062.322</td>\n",
       "      <td>2</td>\n",
       "      <td>5</td>\n",
       "      <td>1</td>\n",
       "      <td>12</td>\n",
       "      <td>2.19</td>\n",
       "      <td>0.026921</td>\n",
       "      <td>01</td>\n",
       "      <td>38dfe76b-ae35-8290-6d80-ab08c963d148</td>\n",
       "      <td>53</td>\n",
       "      <td>False</td>\n",
       "      <td>0</td>\n",
       "      <td>0.938686</td>\n",
       "      <td>1</td>\n",
       "      <td>773</td>\n",
       "      <td>0.330079</td>\n",
       "    </tr>\n",
       "    <tr>\n",
       "      <th>2</th>\n",
       "      <td>48.84062.322</td>\n",
       "      <td>5</td>\n",
       "      <td>4</td>\n",
       "      <td>1</td>\n",
       "      <td>14</td>\n",
       "      <td>2.39</td>\n",
       "      <td>0.034873</td>\n",
       "      <td>16</td>\n",
       "      <td>104dff66-23f1-b67e-01d3-4690a795ac54</td>\n",
       "      <td>11</td>\n",
       "      <td>False</td>\n",
       "      <td>0</td>\n",
       "      <td>0.938686</td>\n",
       "      <td>1</td>\n",
       "      <td>851</td>\n",
       "      <td>0.330079</td>\n",
       "    </tr>\n",
       "    <tr>\n",
       "      <th>3</th>\n",
       "      <td>48.84062.322</td>\n",
       "      <td>2</td>\n",
       "      <td>2</td>\n",
       "      <td>6</td>\n",
       "      <td>13</td>\n",
       "      <td>1.59</td>\n",
       "      <td>0.016300</td>\n",
       "      <td>07</td>\n",
       "      <td>8ec9ea98-6581-f934-9bcf-b1c4f87e3560</td>\n",
       "      <td>53</td>\n",
       "      <td>False</td>\n",
       "      <td>0</td>\n",
       "      <td>0.938686</td>\n",
       "      <td>1</td>\n",
       "      <td>833</td>\n",
       "      <td>0.330079</td>\n",
       "    </tr>\n",
       "    <tr>\n",
       "      <th>4</th>\n",
       "      <td>48.84062.322</td>\n",
       "      <td>1</td>\n",
       "      <td>9</td>\n",
       "      <td>3</td>\n",
       "      <td>14</td>\n",
       "      <td>2.49</td>\n",
       "      <td>0.042489</td>\n",
       "      <td>16</td>\n",
       "      <td>4a30f7cd-00fd-ec23-598c-a3b429b10823</td>\n",
       "      <td>37</td>\n",
       "      <td>False</td>\n",
       "      <td>0</td>\n",
       "      <td>0.938686</td>\n",
       "      <td>1</td>\n",
       "      <td>877</td>\n",
       "      <td>0.330079</td>\n",
       "    </tr>\n",
       "    <tr>\n",
       "      <th>...</th>\n",
       "      <td>...</td>\n",
       "      <td>...</td>\n",
       "      <td>...</td>\n",
       "      <td>...</td>\n",
       "      <td>...</td>\n",
       "      <td>...</td>\n",
       "      <td>...</td>\n",
       "      <td>...</td>\n",
       "      <td>...</td>\n",
       "      <td>...</td>\n",
       "      <td>...</td>\n",
       "      <td>...</td>\n",
       "      <td>...</td>\n",
       "      <td>...</td>\n",
       "      <td>...</td>\n",
       "      <td>...</td>\n",
       "    </tr>\n",
       "    <tr>\n",
       "      <th>4795</th>\n",
       "      <td>48.83332.3991</td>\n",
       "      <td>0</td>\n",
       "      <td>1</td>\n",
       "      <td>6</td>\n",
       "      <td>14</td>\n",
       "      <td>1.79</td>\n",
       "      <td>0.030320</td>\n",
       "      <td>12</td>\n",
       "      <td>9f3176c0-468b-db70-8b6e-6609f5b9cc00</td>\n",
       "      <td>8</td>\n",
       "      <td>False</td>\n",
       "      <td>0</td>\n",
       "      <td>0.599853</td>\n",
       "      <td>1</td>\n",
       "      <td>848</td>\n",
       "      <td>0.102633</td>\n",
       "    </tr>\n",
       "    <tr>\n",
       "      <th>4796</th>\n",
       "      <td>48.83332.3991</td>\n",
       "      <td>0</td>\n",
       "      <td>6</td>\n",
       "      <td>1</td>\n",
       "      <td>12</td>\n",
       "      <td>0.99</td>\n",
       "      <td>0.027606</td>\n",
       "      <td>13</td>\n",
       "      <td>c175de4b-7901-0563-f200-e63ad5700b5a</td>\n",
       "      <td>35</td>\n",
       "      <td>False</td>\n",
       "      <td>0</td>\n",
       "      <td>0.599853</td>\n",
       "      <td>1</td>\n",
       "      <td>755</td>\n",
       "      <td>0.102633</td>\n",
       "    </tr>\n",
       "    <tr>\n",
       "      <th>4797</th>\n",
       "      <td>48.83332.3991</td>\n",
       "      <td>9</td>\n",
       "      <td>4</td>\n",
       "      <td>6</td>\n",
       "      <td>13</td>\n",
       "      <td>1.89</td>\n",
       "      <td>0.040209</td>\n",
       "      <td>13</td>\n",
       "      <td>126bbdd7-f8d1-cd15-e017-68c509c0fbd4</td>\n",
       "      <td>8</td>\n",
       "      <td>1</td>\n",
       "      <td>0</td>\n",
       "      <td>0.599853</td>\n",
       "      <td>1</td>\n",
       "      <td>788</td>\n",
       "      <td>0.102633</td>\n",
       "    </tr>\n",
       "    <tr>\n",
       "      <th>4798</th>\n",
       "      <td>48.83332.3991</td>\n",
       "      <td>2</td>\n",
       "      <td>4</td>\n",
       "      <td>4</td>\n",
       "      <td>13</td>\n",
       "      <td>0.99</td>\n",
       "      <td>0.025097</td>\n",
       "      <td>13</td>\n",
       "      <td>37448afb-3023-73be-3a6d-7a7e16706465</td>\n",
       "      <td>22</td>\n",
       "      <td>False</td>\n",
       "      <td>0</td>\n",
       "      <td>0.599853</td>\n",
       "      <td>1</td>\n",
       "      <td>802</td>\n",
       "      <td>0.102633</td>\n",
       "    </tr>\n",
       "    <tr>\n",
       "      <th>4799</th>\n",
       "      <td>48.83332.3991</td>\n",
       "      <td>7</td>\n",
       "      <td>0</td>\n",
       "      <td>1</td>\n",
       "      <td>14</td>\n",
       "      <td>1.29</td>\n",
       "      <td>0.011652</td>\n",
       "      <td>12</td>\n",
       "      <td>a51e940c-d74a-4e60-a432-e35d461e3ae9</td>\n",
       "      <td>9</td>\n",
       "      <td>1</td>\n",
       "      <td>0</td>\n",
       "      <td>0.599853</td>\n",
       "      <td>1</td>\n",
       "      <td>849</td>\n",
       "      <td>0.102633</td>\n",
       "    </tr>\n",
       "  </tbody>\n",
       "</table>\n",
       "<p>4800 rows × 16 columns</p>\n",
       "</div>"
      ],
      "text/plain": [
       "                 id  rain  heat  day_code  hour   fee         d  \\\n",
       "0      48.84062.322     2     5         6    13  1.69  0.014670   \n",
       "1      48.84062.322     2     5         1    12  2.19  0.026921   \n",
       "2      48.84062.322     5     4         1    14  2.39  0.034873   \n",
       "3      48.84062.322     2     2         6    13  1.59  0.016300   \n",
       "4      48.84062.322     1     9         3    14  2.49  0.042489   \n",
       "...             ...   ...   ...       ...   ...   ...       ...   \n",
       "4795  48.83332.3991     0     1         6    14  1.79  0.030320   \n",
       "4796  48.83332.3991     0     6         1    12  0.99  0.027606   \n",
       "4797  48.83332.3991     9     4         6    13  1.89  0.040209   \n",
       "4798  48.83332.3991     2     4         4    13  0.99  0.025097   \n",
       "4799  48.83332.3991     7     0         1    14  1.29  0.011652   \n",
       "\n",
       "     arrondissement                      observation_uuid  minute rain_thresh  \\\n",
       "0                14  0d742256-0b36-f3cd-0acf-eba4441030ae      44       False   \n",
       "1                01  38dfe76b-ae35-8290-6d80-ab08c963d148      53       False   \n",
       "2                16  104dff66-23f1-b67e-01d3-4690a795ac54      11       False   \n",
       "3                07  8ec9ea98-6581-f934-9bcf-b1c4f87e3560      53       False   \n",
       "4                16  4a30f7cd-00fd-ec23-598c-a3b429b10823      37       False   \n",
       "...             ...                                   ...     ...         ...   \n",
       "4795             12  9f3176c0-468b-db70-8b6e-6609f5b9cc00       8       False   \n",
       "4796             13  c175de4b-7901-0563-f200-e63ad5700b5a      35       False   \n",
       "4797             13  126bbdd7-f8d1-cd15-e017-68c509c0fbd4       8           1   \n",
       "4798             13  37448afb-3023-73be-3a6d-7a7e16706465      22       False   \n",
       "4799             12  a51e940c-d74a-4e60-a432-e35d461e3ae9       9           1   \n",
       "\n",
       "      model    corr_d  corr_d_thresh    t    corr_t  \n",
       "0         0  0.938686              1  824  0.330079  \n",
       "1         0  0.938686              1  773  0.330079  \n",
       "2         0  0.938686              1  851  0.330079  \n",
       "3         0  0.938686              1  833  0.330079  \n",
       "4         0  0.938686              1  877  0.330079  \n",
       "...     ...       ...            ...  ...       ...  \n",
       "4795      0  0.599853              1  848  0.102633  \n",
       "4796      0  0.599853              1  755  0.102633  \n",
       "4797      0  0.599853              1  788  0.102633  \n",
       "4798      0  0.599853              1  802  0.102633  \n",
       "4799      0  0.599853              1  849  0.102633  \n",
       "\n",
       "[4800 rows x 16 columns]"
      ]
     },
     "execution_count": 20,
     "metadata": {},
     "output_type": "execute_result"
    }
   ],
   "source": [
    "df\n"
   ]
  },
  {
   "cell_type": "code",
   "execution_count": 26,
   "id": "a377167f",
   "metadata": {},
   "outputs": [
    {
     "data": {
      "text/plain": [
       "<AxesSubplot:xlabel='corr_t', ylabel='Count'>"
      ]
     },
     "execution_count": 26,
     "metadata": {},
     "output_type": "execute_result"
    },
    {
     "data": {
      "image/png": "[encoded data removed]",
      "text/plain": [
       "<Figure size 432x288 with 1 Axes>"
      ]
     },
     "metadata": {
      "needs_background": "light"
     },
     "output_type": "display_data"
    }
   ],
   "source": [
    "import seaborn as sns\n",
    "\n",
    "#sns.histplot(df[\"corr_t\"])"
   ]
  },
  {
   "cell_type": "code",
   "execution_count": 83,
   "id": "da1e05a6",
   "metadata": {},
   "outputs": [],
   "source": [
    "CORR_T_UPPER_THRESH = 0.3\n",
    "CORR_T_LOWER_THRESH = -0.3\n",
    "df[\"corr_t_thresh\"] = 0\n",
    "df.loc[(df[\"corr_t\"] > CORR_T_UPPER_THRESH) | (df[\"corr_t\"] < CORR_T_LOWER_THRESH), \"corr_t_thresh\"] = 1\n"
   ]
  },
  {
   "cell_type": "code",
   "execution_count": null,
   "id": "2ae86e16",
   "metadata": {},
   "outputs": [],
   "source": []
  },
  {
   "cell_type": "code",
   "execution_count": null,
   "id": "35aa6e66",
   "metadata": {},
   "outputs": [],
   "source": []
  },
  {
   "cell_type": "code",
   "execution_count": 84,
   "id": "836a789b",
   "metadata": {},
   "outputs": [],
   "source": [
    "df.to_csv(\"export_1432.csv\")"
   ]
  },
  {
   "cell_type": "markdown",
   "id": "295902df",
   "metadata": {},
   "source": [
    "## Visualisation de données"
   ]
  },
  {
   "cell_type": "code",
   "execution_count": null,
   "id": "b847c2da",
   "metadata": {},
   "outputs": [],
   "source": []
  },
  {
   "cell_type": "code",
   "execution_count": null,
   "id": "ebd737f2",
   "metadata": {},
   "outputs": [],
   "source": [
    "\"\"\"\n",
    "import plotly.express as px\n",
    "counts, bins = np.histogram(df_annotated.fee, bins=301)\n",
    "bins = 0.5 * (bins[:-1] + bins[1:])\n",
    "\n",
    "fig = px.bar(x=bins, y=counts, labels={'x':'fee', 'y':'count'})\n",
    "fig.show()\n",
    "\"\"\""
   ]
  },
  {
   "cell_type": "code",
   "execution_count": 88,
   "id": "642aab69",
   "metadata": {},
   "outputs": [
    {
     "data": {
      "text/plain": [
       "<seaborn.axisgrid.PairGrid at 0x7ff2f73939d0>"
      ]
     },
     "execution_count": 88,
     "metadata": {},
     "output_type": "execute_result"
    },
    {
     "data": {
      "image/png": "[encoded data removed]",
      "text/plain": [
       "<Figure size 762.375x720 with 20 Axes>"
      ]
     },
     "metadata": {
      "needs_background": "light"
     },
     "output_type": "display_data"
    }
   ],
   "source": [
    "import seaborn as sns\n",
    "import plotly # https://plotly.com/python/\n",
    "\n",
    "sns.pairplot(df[[\"rain\", \"model\", \"fee\", \"t\", \"d\"]], hue=\"model\", kind=\"hist\", diag_kind=\"kde\")#, palette=\"id\") #, hue=\"col1\", palette=\"col2\")\n",
    "# visualisation 2D à creuser : (distance OU temps OU nb course) x commmission \n",
    "# notion éventuelle de bonus pour certaines courses à certains moments ou certains endroits \n",
    "# bonus : (regarder la série temporelle de la tarification moyenne), ou la distribution géographique"
   ]
  },
  {
   "cell_type": "code",
   "execution_count": 87,
   "id": "96486552",
   "metadata": {},
   "outputs": [
    {
     "data": {
      "text/plain": [
       "<seaborn.axisgrid.PairGrid at 0x7ff32d3a1e10>"
      ]
     },
     "execution_count": 87,
     "metadata": {},
     "output_type": "execute_result"
    },
    {
     "data": {
      "image/png": "[encoded data removed]",
      "text/plain": [
       "<Figure size 762.375x720 with 20 Axes>"
      ]
     },
     "metadata": {
      "needs_background": "light"
     },
     "output_type": "display_data"
    }
   ],
   "source": [
    "import seaborn as sns\n",
    "import plotly # https://plotly.com/python/\n",
    "\n",
    "sns.pairplot(df[[\"rain\", \"model\", \"fee\", \"t\", \"d\"]], hue=\"rain\", kind=\"hist\", diag_kind=\"kde\", palette=sns.color_palette(\"Set2\", 10))"
   ]
  },
  {
   "cell_type": "markdown",
   "id": "11bf4901",
   "metadata": {},
   "source": [
    "### Hypothese 0: constant prices"
   ]
  },
  {
   "cell_type": "code",
   "execution_count": 76,
   "id": "7f0f6bb3",
   "metadata": {},
   "outputs": [
    {
     "data": {
      "text/plain": [
       "(4560, 3)"
      ]
     },
     "execution_count": 76,
     "metadata": {},
     "output_type": "execute_result"
    }
   ],
   "source": [
    "X = df[[\"d\", \"fee\", \"rain\"]][df.model != 1].values\n",
    "X.shape"
   ]
  },
  {
   "cell_type": "markdown",
   "id": "17622d66",
   "metadata": {},
   "source": [
    "### Modélisation avec des ellipses pour gérer le bruit sur la distance (pour plus tard ?)"
   ]
  },
  {
   "cell_type": "code",
   "execution_count": 77,
   "id": "f52801b8",
   "metadata": {},
   "outputs": [
    {
     "name": "stderr",
     "output_type": "stream",
     "text": [
      "/home/pierre/.local/lib/python3.10/site-packages/sklearn/mixture/_base.py:286: ConvergenceWarning: Initialization 1 did not converge. Try different init parameters, or increase max_iter, tol or check for degenerate data.\n",
      "  warnings.warn(\n"
     ]
    },
    {
     "data": {
      "text/html": [
       "<style>#sk-container-id-12 {color: black;background-color: white;}#sk-container-id-12 pre{padding: 0;}#sk-container-id-12 div.sk-toggleable {background-color: white;}#sk-container-id-12 label.sk-toggleable__label {cursor: pointer;display: block;width: 100%;margin-bottom: 0;padding: 0.3em;box-sizing: border-box;text-align: center;}#sk-container-id-12 label.sk-toggleable__label-arrow:before {content: \"▸\";float: left;margin-right: 0.25em;color: #696969;}#sk-container-id-12 label.sk-toggleable__label-arrow:hover:before {color: black;}#sk-container-id-12 div.sk-estimator:hover label.sk-toggleable__label-arrow:before {color: black;}#sk-container-id-12 div.sk-toggleable__content {max-height: 0;max-width: 0;overflow: hidden;text-align: left;background-color: #f0f8ff;}#sk-container-id-12 div.sk-toggleable__content pre {margin: 0.2em;color: black;border-radius: 0.25em;background-color: #f0f8ff;}#sk-container-id-12 input.sk-toggleable__control:checked~div.sk-toggleable__content {max-height: 200px;max-width: 100%;overflow: auto;}#sk-container-id-12 input.sk-toggleable__control:checked~label.sk-toggleable__label-arrow:before {content: \"▾\";}#sk-container-id-12 div.sk-estimator input.sk-toggleable__control:checked~label.sk-toggleable__label {background-color: #d4ebff;}#sk-container-id-12 div.sk-label input.sk-toggleable__control:checked~label.sk-toggleable__label {background-color: #d4ebff;}#sk-container-id-12 input.sk-hidden--visually {border: 0;clip: rect(1px 1px 1px 1px);clip: rect(1px, 1px, 1px, 1px);height: 1px;margin: -1px;overflow: hidden;padding: 0;position: absolute;width: 1px;}#sk-container-id-12 div.sk-estimator {font-family: monospace;background-color: #f0f8ff;border: 1px dotted black;border-radius: 0.25em;box-sizing: border-box;margin-bottom: 0.5em;}#sk-container-id-12 div.sk-estimator:hover {background-color: #d4ebff;}#sk-container-id-12 div.sk-parallel-item::after {content: \"\";width: 100%;border-bottom: 1px solid gray;flex-grow: 1;}#sk-container-id-12 div.sk-label:hover label.sk-toggleable__label {background-color: #d4ebff;}#sk-container-id-12 div.sk-serial::before {content: \"\";position: absolute;border-left: 1px solid gray;box-sizing: border-box;top: 0;bottom: 0;left: 50%;z-index: 0;}#sk-container-id-12 div.sk-serial {display: flex;flex-direction: column;align-items: center;background-color: white;padding-right: 0.2em;padding-left: 0.2em;position: relative;}#sk-container-id-12 div.sk-item {position: relative;z-index: 1;}#sk-container-id-12 div.sk-parallel {display: flex;align-items: stretch;justify-content: center;background-color: white;position: relative;}#sk-container-id-12 div.sk-item::before, #sk-container-id-12 div.sk-parallel-item::before {content: \"\";position: absolute;border-left: 1px solid gray;box-sizing: border-box;top: 0;bottom: 0;left: 50%;z-index: -1;}#sk-container-id-12 div.sk-parallel-item {display: flex;flex-direction: column;z-index: 1;position: relative;background-color: white;}#sk-container-id-12 div.sk-parallel-item:first-child::after {align-self: flex-end;width: 50%;}#sk-container-id-12 div.sk-parallel-item:last-child::after {align-self: flex-start;width: 50%;}#sk-container-id-12 div.sk-parallel-item:only-child::after {width: 0;}#sk-container-id-12 div.sk-dashed-wrapped {border: 1px dashed gray;margin: 0 0.4em 0.5em 0.4em;box-sizing: border-box;padding-bottom: 0.4em;background-color: white;}#sk-container-id-12 div.sk-label label {font-family: monospace;font-weight: bold;display: inline-block;line-height: 1.2em;}#sk-container-id-12 div.sk-label-container {text-align: center;}#sk-container-id-12 div.sk-container {/* jupyter's `normalize.less` sets `[hidden] { display: none; }` but bootstrap.min.css set `[hidden] { display: none !important; }` so we also need the `!important` here to be able to override the default hidden behavior on the sphinx rendered scikit-learn.org. See: https://github.com/scikit-learn/scikit-learn/issues/21755 */display: inline-block !important;position: relative;}#sk-container-id-12 div.sk-text-repr-fallback {display: none;}</style><div id=\"sk-container-id-12\" class=\"sk-top-container\"><div class=\"sk-text-repr-fallback\"><pre>Pipeline(steps=[(&#x27;standardscaler&#x27;, StandardScaler()),\n",
       "                (&#x27;bayesiangaussianmixture&#x27;,\n",
       "                 BayesianGaussianMixture(n_components=3))])</pre><b>In a Jupyter environment, please rerun this cell to show the HTML representation or trust the notebook. <br />On GitHub, the HTML representation is unable to render, please try loading this page with nbviewer.org.</b></div><div class=\"sk-container\" hidden><div class=\"sk-item sk-dashed-wrapped\"><div class=\"sk-label-container\"><div class=\"sk-label sk-toggleable\"><input class=\"sk-toggleable__control sk-hidden--visually\" id=\"sk-estimator-id-18\" type=\"checkbox\" ><label for=\"sk-estimator-id-18\" class=\"sk-toggleable__label sk-toggleable__label-arrow\">Pipeline</label><div class=\"sk-toggleable__content\"><pre>Pipeline(steps=[(&#x27;standardscaler&#x27;, StandardScaler()),\n",
       "                (&#x27;bayesiangaussianmixture&#x27;,\n",
       "                 BayesianGaussianMixture(n_components=3))])</pre></div></div></div><div class=\"sk-serial\"><div class=\"sk-item\"><div class=\"sk-estimator sk-toggleable\"><input class=\"sk-toggleable__control sk-hidden--visually\" id=\"sk-estimator-id-19\" type=\"checkbox\" ><label for=\"sk-estimator-id-19\" class=\"sk-toggleable__label sk-toggleable__label-arrow\">StandardScaler</label><div class=\"sk-toggleable__content\"><pre>StandardScaler()</pre></div></div></div><div class=\"sk-item\"><div class=\"sk-estimator sk-toggleable\"><input class=\"sk-toggleable__control sk-hidden--visually\" id=\"sk-estimator-id-20\" type=\"checkbox\" ><label for=\"sk-estimator-id-20\" class=\"sk-toggleable__label sk-toggleable__label-arrow\">BayesianGaussianMixture</label><div class=\"sk-toggleable__content\"><pre>BayesianGaussianMixture(n_components=3)</pre></div></div></div></div></div></div></div>"
      ],
      "text/plain": [
       "Pipeline(steps=[('standardscaler', StandardScaler()),\n",
       "                ('bayesiangaussianmixture',\n",
       "                 BayesianGaussianMixture(n_components=3))])"
      ]
     },
     "execution_count": 77,
     "metadata": {},
     "output_type": "execute_result"
    }
   ],
   "source": [
    "from sklearn.mixture import GaussianMixture\n",
    "from sklearn.mixture import BayesianGaussianMixture\n",
    "from sklearn.pipeline import make_pipeline\n",
    "from sklearn.preprocessing import StandardScaler\n",
    "\n",
    "#model = GaussianMixture(n_components=3, covariance_type=\"full\")\n",
    "model = BayesianGaussianMixture(n_components=3)\n",
    "\n",
    "pip = make_pipeline(StandardScaler(), model)\n",
    "\n",
    "pip.fit(X)\n",
    "# https://runebook.dev/fr/docs/scikit_learn/modules/mixture#bgmm (traduction de la doc scikit-learn)\n",
    "# https://scikit-learn.org/dev/modules/mixture.html#mixture\n",
    "# make_pipeline(StandardScaler(), model)"
   ]
  },
  {
   "cell_type": "code",
   "execution_count": 78,
   "id": "7ff3dc3e",
   "metadata": {},
   "outputs": [
    {
     "data": {
      "image/png": "[encoded data removed]",
      "text/plain": [
       "<Figure size 432x288 with 1 Axes>"
      ]
     },
     "metadata": {},
     "output_type": "display_data"
    }
   ],
   "source": [
    "\n",
    "import itertools\n",
    "\n",
    "import numpy as np\n",
    "from scipy import linalg\n",
    "import matplotlib.pyplot as plt\n",
    "import matplotlib as mpl\n",
    "\n",
    "from sklearn import mixture\n",
    "\n",
    "color_iter = itertools.cycle([\"navy\", \"c\", \"cornflowerblue\", \"gold\", \"darkorange\"])\n",
    "\n",
    "def plot_results(X, Y_, means, covariances, index, title):\n",
    "    splot = plt.subplot(2, 1, 1 + index)\n",
    "    for i, (mean, covar, color) in enumerate(zip(means, covariances, color_iter)):\n",
    "        v, w = linalg.eigh(covar)\n",
    "        v = 2.0 * np.sqrt(2.0) * np.sqrt(v)\n",
    "        u = w[0] / linalg.norm(w[0])\n",
    "        # as the DP will not use every component it has access to\n",
    "        # unless it needs it, we shouldn't plot the redundant\n",
    "        # components.\n",
    "        if not np.any(Y_ == i):\n",
    "            continue\n",
    "        plt.scatter(X[Y_ == i, 0], X[Y_ == i, 1], 0.8, color=color)\n",
    "\n",
    "        # Plot an ellipse to show the Gaussian component\n",
    "        angle = np.arctan(u[1] / u[0])\n",
    "        angle = 180.0 * angle / np.pi  # convert to degrees\n",
    "        ell = mpl.patches.Ellipse(mean, v[0], v[1], 180.0 + angle, color=color)\n",
    "        ell.set_clip_box(splot.bbox)\n",
    "        ell.set_alpha(0.5)\n",
    "        splot.add_artist(ell)\n",
    "\n",
    "    plt.xticks(())\n",
    "    plt.yticks(())\n",
    "    plt.title(title)\n",
    "    \n",
    "plot_results(X, pip.predict(X), model.means_, model.covariances_, 0, \"Gaussian Mixture\")"
   ]
  },
  {
   "cell_type": "code",
   "execution_count": null,
   "id": "d8bbfeb5",
   "metadata": {},
   "outputs": [],
   "source": []
  },
  {
   "cell_type": "code",
   "execution_count": null,
   "id": "ce23a3ec",
   "metadata": {},
   "outputs": [],
   "source": []
  }
 ],
 "metadata": {
  "kernelspec": {
   "display_name": "Python 3 (ipykernel)",
   "language": "python",
   "name": "python3"
  },
  "language_info": {
   "codemirror_mode": {
    "name": "ipython",
    "version": 3
   },
   "file_extension": ".py",
   "mimetype": "text/x-python",
   "name": "python",
   "nbconvert_exporter": "python",
   "pygments_lexer": "ipython3",
   "version": "3.10.6"
  }
 },
 "nbformat": 4,
 "nbformat_minor": 5
}
