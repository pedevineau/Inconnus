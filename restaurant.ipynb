{
 "cells": [
  {
   "cell_type": "code",
   "execution_count": null,
   "id": "9c019ab1",
   "metadata": {},
   "outputs": [],
   "source": [
    "%load_ext autoreload\n",
    "%autoreload 2"
   ]
  },
  {
   "cell_type": "markdown",
   "id": "d763608c",
   "metadata": {},
   "source": [
    "# Segmentation"
   ]
  },
  {
   "cell_type": "markdown",
   "id": "70a2c8f8",
   "metadata": {},
   "source": [
    "## Règles"
   ]
  },
  {
   "cell_type": "markdown",
   "id": "eaa41c9b",
   "metadata": {},
   "source": [
    "_Avant de s’interroger sur les responsabilités d’un algorithme, il faut être en mesure d’identifier quel algorithme est la source de telle décision. Ainsi, en parallèle des conférences, la société civile est invitée dans le cadre d’un Hackathon, à contribuer à la résolution de ce problème ouvert via des techniques d’intelligence artificielle._\n",
    "_Le Hackathon propose un cas simplifié, mais réaliste, de plateforme de livraison de plats cuisinés. La plateforme affiche à l’utilisateur un tarif unique pour chaque livraison, depuis un restaurant jusqu’au lieu de collecte. Plusieurs options sont possibles pour l'établissement de ce tarif : le restaurant décide quelle option de livraison et/ou tarification de livraison s’applique à lui parmi différents algorithmes proposés par la plateforme ou la tarification est complètement à la main du restaurant._\n",
    "\n",
    "_Pour comprendre les responsabilités à l’œuvre, les participants inscrits auront pour mission de détecter à partir du jeu de données fourni quel algorithme fixe quelle tarification. Afin d’aider les participants, le jeu de données contient des informations récupérées sur la plateforme fictive (e.g. le lieu de livraison) comme des données contextuelles (e.g. des informations sur la météo locale). Toute donnée supplémentaire apportée par les candidats est bienvenue._"
   ]
  },
  {
   "cell_type": "markdown",
   "id": "c4de68ed",
   "metadata": {},
   "source": [
    "## Méthodologie"
   ]
  },
  {
   "cell_type": "markdown",
   "id": "cc6a289a",
   "metadata": {},
   "source": [
    "## Objectif visé\n",
    "Déterminer, pour chaque commande, le mode de tarification utilisé (variable caché) étant donné le tarif affiché à l'utilisateur (qui est notre observable)."
   ]
  },
  {
   "cell_type": "markdown",
   "id": "eb5d25ec",
   "metadata": {},
   "source": []
  },
  {
   "cell_type": "markdown",
   "id": "1d3023ec",
   "metadata": {},
   "source": [
    "### Données utilisées (et sources)\n",
    "Météo (jdd fourni)\n",
    "Géolocalisation des points de livraison (jdd fourni)\n",
    "Géolocalisation des commerces (jdd fourni)\n",
    "Jour et heure (jdd fourni)"
   ]
  },
  {
   "cell_type": "markdown",
   "id": "d9f4fcb2",
   "metadata": {},
   "source": [
    "### Spécifications techniques du code\n",
    "python3.10\n",
    "sklearn==1.1.0"
   ]
  },
  {
   "cell_type": "markdown",
   "id": "fd6fe981",
   "metadata": {},
   "source": [
    "# Feature engineering"
   ]
  },
  {
   "cell_type": "code",
   "execution_count": null,
   "id": "b4a6d319",
   "metadata": {},
   "outputs": [],
   "source": [
    "import pandas as pd\n",
    "tarifs = pd.read_csv(\"tarifs.csv\")"
   ]
  },
  {
   "cell_type": "code",
   "execution_count": null,
   "id": "f7e458b4",
   "metadata": {},
   "outputs": [],
   "source": [
    "tarifs.head()"
   ]
  },
  {
   "cell_type": "markdown",
   "id": "8ddbca4d",
   "metadata": {},
   "source": [
    "#### Adding restaurant id.\n",
    "#### Also addd addresses (?) (seem to be useless. Maybe the addressed are anonymized ?)"
   ]
  },
  {
   "cell_type": "code",
   "execution_count": null,
   "id": "902be672",
   "metadata": {},
   "outputs": [],
   "source": [
    "tarifs[\"id\"] = tarifs.apply(lambda row: str(row[\"start_lat\"]) + str(row[\"start_lon\"]), axis=1)"
   ]
  },
  {
   "cell_type": "code",
   "execution_count": null,
   "id": "f98ba6e7",
   "metadata": {},
   "outputs": [],
   "source": [
    "\"\"\"\n",
    "tarifs[\"lat\"] = tarifs[\"start_lat\"]\n",
    "tarifs[\"lon\"] = tarifs[\"start_lon\"]\n",
    "tarifs.to_csv(\"tarifs_geo.csv\")\n",
    "!curl -X POST -F data=@tarifs_geo.csv https://api-adresse.data.gouv.fr/reverse/csv/ > tarifs_adresses.csv\n",
    "\"\"\"\n"
   ]
  },
  {
   "cell_type": "markdown",
   "id": "61c99847",
   "metadata": {},
   "source": [
    "### Distance"
   ]
  },
  {
   "cell_type": "code",
   "execution_count": null,
   "id": "1709ae0b",
   "metadata": {},
   "outputs": [],
   "source": [
    "import numpy as np"
   ]
  },
  {
   "cell_type": "code",
   "execution_count": null,
   "id": "92fc01d8",
   "metadata": {},
   "outputs": [],
   "source": [
    "# Création de la colonne \"distance au point de livraison\"\n",
    "tarifs[\"d\"] = np.sqrt((tarifs[\"end_lon\"]-tarifs[\"start_lon\"])**2 + (tarifs[\"end_lat\"]-tarifs[\"start_lat\"])**2)"
   ]
  },
  {
   "cell_type": "markdown",
   "id": "2d833b74",
   "metadata": {},
   "source": [
    "## Arrondissement"
   ]
  },
  {
   "cell_type": "code",
   "execution_count": null,
   "id": "de388138",
   "metadata": {},
   "outputs": [],
   "source": [
    "# it works because the last 2 digits of code INSEE equals the arrondissement number for Paris\n",
    "tarifs[\"arrondissement\"] = tarifs.apply(lambda row: str(row[\"end_code_postal\"])[-2:], axis=1)"
   ]
  },
  {
   "cell_type": "markdown",
   "id": "261b0dd8",
   "metadata": {},
   "source": [
    "## Jour"
   ]
  },
  {
   "cell_type": "code",
   "execution_count": null,
   "id": "63a8e8dd",
   "metadata": {},
   "outputs": [],
   "source": [
    "day_dict = {\"Monday\": 1, \"Tuesday\": 2, \"Wednesday\": 3, \"Thursday\": 4, \"Friday\": 5, \"Saturday\": 6, \"Sunday\": 7}\n",
    "tarifs[\"day_code\"] = tarifs.apply(lambda row: day_dict[row[\"day_of_week\"]], axis=1)\n",
    "df = tarifs[[\"id\", \"rain\", \"heat\", \"day_code\", \"hour\", \"fee\", \"d\", \"arrondissement\", \"observation_uuid\", \"minute\"]]\n",
    "df.head(10)"
   ]
  },
  {
   "cell_type": "code",
   "execution_count": null,
   "id": "4e63b9a5",
   "metadata": {},
   "outputs": [],
   "source": [
    "from sklearn.model_selection import train_test_split\n",
    "## à faire plus tard avant de soumettre"
   ]
  },
  {
   "cell_type": "code",
   "execution_count": null,
   "id": "0e240b27",
   "metadata": {},
   "outputs": [],
   "source": [
    "# Nos idées, à mettre plus tard dans le README.md (à la fin du hackathon)"
   ]
  },
  {
   "cell_type": "markdown",
   "id": "d1d8a3ab",
   "metadata": {},
   "source": [
    "### Modèle constant (mod 1) et modèle rain - deux valeurs selon qu'on est  rain>=6 ou non  (outdated - mod 2)"
   ]
  },
  {
   "cell_type": "code",
   "execution_count": null,
   "id": "c3bc89b0",
   "metadata": {},
   "outputs": [],
   "source": []
  },
  {
   "cell_type": "code",
   "execution_count": null,
   "id": "7c775797",
   "metadata": {},
   "outputs": [],
   "source": [
    "df[\"rain_thresh\"] = 0\n",
    "df[\"heat_thresh\"] = 0\n",
    "\n",
    "df.loc[df[\"rain\"]>=6,\"rain_thresh\"]=1 # values 6, 7, 8, 9\n",
    "df.loc[df[\"heat\"]<=3,\"heat_thresh\"]=1 # values 0, 1,2, 3\n",
    "#df.loc[df[\"heat\"]>=8,\"heat_thresh\"]=1 # values 8,9\n"
   ]
  },
  {
   "cell_type": "code",
   "execution_count": null,
   "id": "409e2e95",
   "metadata": {},
   "outputs": [],
   "source": [
    "def get_ratios(distances, fees, rains, heats):\n",
    "    d_calm, d_notcalm = 0, 0\n",
    "    f_calm, f_notcalm = 0, 0\n",
    "    for k, _ in enumerate(distances):\n",
    "        if rains[k] == 1 or heats[k] == 1: # not calm\n",
    "            d_notcalm += distances[k]\n",
    "            f_notcalm += fees[k]\n",
    "        else:\n",
    "            d_calm += distances[k]\n",
    "            f_calm += fees[k]\n",
    "    if not d_calm == 0 and not d_notcalm == 0:\n",
    "        ratio_calm = f_calm / d_calm\n",
    "        ratio_notcalm = f_notcalm / d_notcalm\n",
    "        error = np.abs(ratio_calm - ratio_notcalm)/ratio_calm\n",
    "        return error\n",
    "    else:\n",
    "        \n",
    "        return 0\n",
    "    "
   ]
  },
  {
   "cell_type": "code",
   "execution_count": null,
   "id": "edab84a5",
   "metadata": {},
   "outputs": [],
   "source": []
  },
  {
   "cell_type": "code",
   "execution_count": null,
   "id": "445cb01b",
   "metadata": {},
   "outputs": [],
   "source": [
    "grouped = df[[\"id\", \"d\", \"fee\", \"rain_thresh\", \"heat_thresh\"]].groupby(\"id\").agg(list)\n",
    "\n",
    "grouped[\"weather_sensible\"] = grouped.apply(\n",
    "    lambda row: get_ratios(row[\"d\"], row[\"fee\"],row[\"rain_thresh\"], row[\"heat_thresh\"]),\n",
    "    axis=1\n",
    ")\n",
    "df = pd.merge(df, grouped[[\"weather_sensible\"]].reset_index(), left_on=\"id\", right_on=\"id\")"
   ]
  },
  {
   "cell_type": "code",
   "execution_count": null,
   "id": "f6be793f",
   "metadata": {},
   "outputs": [],
   "source": [
    "df[\"weather_thresh\"] = 0\n",
    "df.loc[df[\"weather_sensible\"] > 0.22, \"weather_thresh\"] = 1\n"
   ]
  },
  {
   "cell_type": "code",
   "execution_count": null,
   "id": "7a128936",
   "metadata": {},
   "outputs": [],
   "source": []
  },
  {
   "cell_type": "markdown",
   "id": "aff5ead1",
   "metadata": {},
   "source": [
    "## Week day"
   ]
  },
  {
   "cell_type": "code",
   "execution_count": null,
   "id": "1da8228a",
   "metadata": {},
   "outputs": [],
   "source": [
    "def get_ratios_weekends(distances, fees, days): # Friday and weekends\n",
    "    d, d_not = 0, 0\n",
    "    f, f_not = 0, 0\n",
    "    for k, day in enumerate(days):\n",
    "        if day>=5: # friday, sunday, saturday\n",
    "            d += distances[k]\n",
    "            f += fees[k]\n",
    "        else:\n",
    "            d_not += distances[k]\n",
    "            f_not += fees[k]\n",
    "    if not d == 0 and not d_not == 0:\n",
    "        ratio_calm = f / d\n",
    "        ratio_notcalm = f_not / d_not\n",
    "        error = np.abs(ratio_calm - ratio_notcalm)/ratio_calm\n",
    "        return error\n",
    "    else:\n",
    "        \n",
    "        return 0\n",
    "\n"
   ]
  },
  {
   "cell_type": "code",
   "execution_count": null,
   "id": "f560fb10",
   "metadata": {},
   "outputs": [],
   "source": [
    "grouped = df[[\"id\", \"d\", \"fee\", \"day_code\"]].groupby(\"id\").agg(list)\n",
    "\n",
    "grouped[\"day_sensible\"] = grouped.apply(\n",
    "    lambda row: get_ratios_weekends(row[\"d\"], row[\"fee\"],row[\"day_code\"]),\n",
    "    axis=1\n",
    ")\n",
    "df = pd.merge(df, grouped[[\"day_sensible\"]].reset_index(), left_on=\"id\", right_on=\"id\")"
   ]
  },
  {
   "cell_type": "code",
   "execution_count": null,
   "id": "44c7be87",
   "metadata": {},
   "outputs": [],
   "source": []
  },
  {
   "cell_type": "code",
   "execution_count": null,
   "id": "5ed9f12c",
   "metadata": {},
   "outputs": [],
   "source": []
  },
  {
   "cell_type": "code",
   "execution_count": null,
   "id": "6be13531",
   "metadata": {},
   "outputs": [],
   "source": []
  },
  {
   "cell_type": "code",
   "execution_count": null,
   "id": "dacd1fe1",
   "metadata": {},
   "outputs": [],
   "source": [
    "\n",
    "restaurant_model = df[[\"fee\", \"id\"]].groupby(\"id\").nunique().reset_index()\n",
    "restaurant_model[\"model\"] = 0\n",
    "restaurant_model.rename(columns={\"fee\":\"nb_fee\"}, inplace=True)\n",
    "restaurant_model"
   ]
  },
  {
   "cell_type": "code",
   "execution_count": null,
   "id": "7ab8ec2c",
   "metadata": {},
   "outputs": [],
   "source": [
    "df = pd.merge(df, restaurant_model[[\"id\", \"model\", \"nb_fee\"]], left_on=\"id\", right_on=\"id\")"
   ]
  },
  {
   "cell_type": "code",
   "execution_count": null,
   "id": "e28cfbc2",
   "metadata": {},
   "outputs": [],
   "source": []
  },
  {
   "cell_type": "code",
   "execution_count": null,
   "id": "9b8486db",
   "metadata": {},
   "outputs": [],
   "source": []
  },
  {
   "cell_type": "code",
   "execution_count": null,
   "id": "598bfd4a",
   "metadata": {},
   "outputs": [],
   "source": [
    "import seaborn as sns\n",
    "sns.pairplot(df[[\"fee\", \"d\", \"weather_thresh\"]][df.nb_fee!=1], hue=\"weather_thresh\", kind=\"hist\", diag_kind=\"kde\")#, palette=\"id\") #, hue=\"col1\", palette=\"col2\")\n",
    "\n",
    "# TODO: regarder la série temporelle de la tarification moyenne ?"
   ]
  },
  {
   "cell_type": "code",
   "execution_count": null,
   "id": "b016f823",
   "metadata": {},
   "outputs": [],
   "source": []
  },
  {
   "cell_type": "markdown",
   "id": "50f63c79",
   "metadata": {},
   "source": [
    "### Pearson correlation (fee, distance)"
   ]
  },
  {
   "cell_type": "code",
   "execution_count": null,
   "id": "ff86fe90",
   "metadata": {},
   "outputs": [],
   "source": [
    "from scipy.stats import pearsonr\n",
    "\n",
    "grouped = df[[\"id\", \"d\", \"fee\"]].groupby(\"id\").agg(list)\n",
    "grouped[\"corr_d\"] = grouped.apply(\n",
    "    lambda row: pearsonr(x=row[\"fee\"], y=row[\"d\"])[0],axis=1\n",
    ")\n",
    "\n",
    "df = pd.merge(df, grouped[[\"corr_d\"]].reset_index(), left_on=\"id\", right_on=\"id\")\n"
   ]
  },
  {
   "cell_type": "code",
   "execution_count": null,
   "id": "fc185653",
   "metadata": {},
   "outputs": [],
   "source": [
    "CORR_D_THRESH = 0.9\n",
    "df[\"corr_d_thresh\"] = 0\n",
    "df.loc[df[\"corr_d\"] > CORR_D_THRESH, \"corr_d_thresh\"] = 1"
   ]
  },
  {
   "cell_type": "code",
   "execution_count": null,
   "id": "28cfe5b4",
   "metadata": {},
   "outputs": [],
   "source": [
    "df.corr_d_thresh.value_counts()"
   ]
  },
  {
   "cell_type": "code",
   "execution_count": null,
   "id": "a4dc1bbf",
   "metadata": {},
   "outputs": [],
   "source": []
  },
  {
   "cell_type": "markdown",
   "id": "679377a5",
   "metadata": {},
   "source": [
    "### Pearson correlation (fee, hour)"
   ]
  },
  {
   "cell_type": "code",
   "execution_count": null,
   "id": "5857d076",
   "metadata": {},
   "outputs": [],
   "source": [
    "from scipy.stats import pearsonr\n",
    "df[\"t\"] = df[\"hour\"]*60+df[\"minute\"]\n",
    "grouped = df[[\"id\", \"t\", \"fee\"]].groupby(\"id\").agg(list)\n",
    "grouped[\"corr_t\"] = grouped.apply(\n",
    "    lambda row: pearsonr(x=row[\"fee\"], y=row[\"t\"])[0],axis=1\n",
    ")\n",
    "\n",
    "df = pd.merge(df, grouped[[\"corr_t\"]].reset_index(), left_on=\"id\", right_on=\"id\")\n"
   ]
  },
  {
   "cell_type": "code",
   "execution_count": null,
   "id": "8aba1339",
   "metadata": {},
   "outputs": [],
   "source": [
    "import seaborn as sns\n",
    "\n",
    "sns.histplot(df[\"weather_sensible\"],bins=101)"
   ]
  },
  {
   "cell_type": "code",
   "execution_count": null,
   "id": "cc62e9c4",
   "metadata": {},
   "outputs": [],
   "source": [
    "CORR_T_UPPER_THRESH = 0.3\n",
    "CORR_T_LOWER_THRESH = -0.3\n",
    "df[\"corr_t_thresh\"] = 0\n",
    "df.loc[(df[\"corr_t\"] > CORR_T_UPPER_THRESH) | (df[\"corr_t\"] < CORR_T_LOWER_THRESH), \"corr_t_thresh\"] = 1\n"
   ]
  },
  {
   "cell_type": "code",
   "execution_count": null,
   "id": "4bbf1e0e",
   "metadata": {},
   "outputs": [],
   "source": [
    "df[[\"nb_fee\",\"weather_thresh\", \"weather_sensible\", \"day_sensible\",\"observation_uuid\", \"corr_d\", \"corr_t\", \"t\"]].to_csv(\"results.csv\")"
   ]
  },
  {
   "cell_type": "markdown",
   "id": "6fe7275b",
   "metadata": {},
   "source": [
    "## Soumission generation"
   ]
  },
  {
   "cell_type": "code",
   "execution_count": null,
   "id": "8f9e5fd7",
   "metadata": {},
   "outputs": [],
   "source": [
    "import pandas as pd\n",
    "#import numpy as np\n",
    "\n",
    "df = pd.read_csv(\"results.csv\")\n",
    "\n",
    "def f(row):\n",
    "    if row[\"nb_fee\"] == 1:\n",
    "        return 1\n",
    "    if row[\"corr_d\"] >= 0.88:\n",
    "        return 2\n",
    "    if row[\"weather_sensible\"] <= 0.22:\n",
    "        return 3\n",
    "    return 4\n",
    "\n",
    "df[\"algorithm\"] = df.apply(f, axis=1)\n",
    "\n",
    "soumission = df[[\"observation_uuid\", \"algorithm\"]]\n",
    "n = 1\n",
    "soumission.to_csv(f\"soumission_{n}.csv\", index=False)"
   ]
  },
  {
   "cell_type": "markdown",
   "id": "89614a94",
   "metadata": {},
   "source": [
    "# What would a linear estimate mixing all commands from all restaurants ?"
   ]
  },
  {
   "cell_type": "code",
   "execution_count": null,
   "id": "f41b7f9a",
   "metadata": {},
   "outputs": [],
   "source": [
    "from sklearn.cluster import KMeans\n",
    "from sklearn.linear_model import Lasso, Ridge, RidgeCV, LassoCV\n",
    "from sklearn.kernel_ridge import KernelRidge\n",
    "from sklearn.preprocessing import StandardScaler\n",
    "from sklearn.pipeline import make_pipeline\n",
    "\n",
    "model = RidgeCV(cv=20)\n",
    "\n",
    "std = StandardScaler()\n",
    "pip = make_pipeline(\n",
    "    std, \n",
    "    lasso_\n",
    ")\n",
    "\n",
    "X, Y=df[[\"d\"]][df.nb_fee!=1], df[\"fee\"][df.nb_fee!=1]\n",
    "X_train, X_test, Y_train, Y_test = train_test_split(X,Y, test_size=0.5)\n",
    "pip.fit(X_train, Y_train)"
   ]
  },
  {
   "cell_type": "markdown",
   "id": "7d0bc039",
   "metadata": {},
   "source": [
    "ABS_DIST_LINEAR = 0.4\n",
    "rather_linear = (np.abs(pip.predict(X)-Y)<ABS_DIST_LINEAR)\n",
    "df[\"LINEAR\"] = rather_linear\n",
    "df"
   ]
  },
  {
   "cell_type": "markdown",
   "id": "295902df",
   "metadata": {},
   "source": [
    "## Visualisations gridplot"
   ]
  },
  {
   "cell_type": "code",
   "execution_count": null,
   "id": "a9906162",
   "metadata": {},
   "outputs": [],
   "source": []
  },
  {
   "cell_type": "code",
   "execution_count": null,
   "id": "ebd737f2",
   "metadata": {},
   "outputs": [],
   "source": [
    "\"\"\"\n",
    "import plotly.express as px\n",
    "counts, bins = np.histogram(df_annotated.fee, bins=301)\n",
    "bins = 0.5 * (bins[:-1] + bins[1:])\n",
    "\n",
    "fig = px.bar(x=bins, y=counts, labels={'x':'fee', 'y':'count'})\n",
    "fig.show()\n",
    "\"\"\""
   ]
  },
  {
   "cell_type": "code",
   "execution_count": null,
   "id": "1d302840",
   "metadata": {},
   "outputs": [],
   "source": []
  },
  {
   "cell_type": "code",
   "execution_count": null,
   "id": "642aab69",
   "metadata": {
    "scrolled": false
   },
   "outputs": [],
   "source": [
    "import seaborn as sns\n",
    "import plotly # https://plotly.com/python/\n",
    "\n",
    "sns.pairplot(df[[\"rain\", \"nb_fee\", \"fee\", \"d\", \"heat\", \"weather_thresh\"]], hue=\"weather_thresh\", kind=\"hist\", diag_kind=\"kde\")#, palette=\"id\") #, hue=\"col1\", palette=\"col2\")\n",
    "# visualisation 2D à creuser : (distance OU temps OU nb course) x commmission \n",
    "# notion éventuelle de bonus pour certaines courses à certains moments ou certains endroits \n",
    "# bonus : (regarder la série temporelle de la tarification moyenne), ou la distribution géographique"
   ]
  },
  {
   "cell_type": "code",
   "execution_count": null,
   "id": "a82cc53b",
   "metadata": {},
   "outputs": [],
   "source": [
    "import seaborn as sns\n",
    "import plotly # https://plotly.com/python/\n",
    "\n",
    "sns.pairplot(df[[\"rain\", \"model\", \"fee\", \"t\", \"d\"]], hue=\"rain\", kind=\"hist\", diag_kind=\"kde\", palette=sns.color_palette(\"Set2\", 10))"
   ]
  },
  {
   "cell_type": "markdown",
   "id": "17622d66",
   "metadata": {},
   "source": [
    "### Modélisation avec des ellipses pour gérer le bruit sur la distance (n'a rien donné...)"
   ]
  },
  {
   "cell_type": "code",
   "execution_count": null,
   "id": "f52801b8",
   "metadata": {},
   "outputs": [],
   "source": [
    "from sklearn.mixture import GaussianMixture\n",
    "from sklearn.mixture import BayesianGaussianMixture\n",
    "from sklearn.pipeline import make_pipeline\n",
    "from sklearn.preprocessing import StandardScaler\n",
    "\"\"\"\n",
    "model = GaussianMixture(n_components=3, covariance_type=\"full\")\n",
    "model = BayesianGaussianMixture(n_components=3)\n",
    "\n",
    "pip = make_pipeline(StandardScaler(), model)\n",
    "\n",
    "X_train, X_test = train_test_split(X, test_size=0.25)\n",
    "pip.fit(X_test)\n",
    "\"\"\"\n",
    "# https://scikit-learn.org/dev/modules/mixture.html#mixture\n",
    "# make_pipeline(StandardScaler(), model)"
   ]
  },
  {
   "cell_type": "code",
   "execution_count": null,
   "id": "52810775",
   "metadata": {},
   "outputs": [],
   "source": []
  },
  {
   "cell_type": "code",
   "execution_count": null,
   "id": "85ca9162",
   "metadata": {},
   "outputs": [],
   "source": []
  },
  {
   "cell_type": "code",
   "execution_count": null,
   "id": "c685567f",
   "metadata": {},
   "outputs": [],
   "source": []
  }
 ],
 "metadata": {
  "kernelspec": {
   "display_name": "Python 3 (ipykernel)",
   "language": "python",
   "name": "python3"
  },
  "language_info": {
   "codemirror_mode": {
    "name": "ipython",
    "version": 3
   },
   "file_extension": ".py",
   "mimetype": "text/x-python",
   "name": "python",
   "nbconvert_exporter": "python",
   "pygments_lexer": "ipython3",
   "version": "3.10.6"
  }
 },
 "nbformat": 4,
 "nbformat_minor": 5
}
